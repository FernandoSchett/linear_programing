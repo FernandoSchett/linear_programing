{
 "cells": [
  {
   "cell_type": "markdown",
   "metadata": {
    "id": "tQ1r1bbb0yBv"
   },
   "source": [
    "# <img src=\"https://github.com/JuliaLang/julia-logo-graphics/raw/master/images/julia-logo-color.png\" height=\"100\" /> _Introdução à Otimização Logística_ <h6>Prof. Rafael Augusto de Melo</h6>\n",
    "\n",
    "## Instruções\n",
    "1. Para uso de GPU : _Runtime_ > _altere o runtime_ > _acelerador de Hardware_ = _GPU_.\n",
    "2. Execute a célula abaixo ( clique e pressione Ctrl+Enter) para instalar Julia, IJulia e outros pacotes.\n",
    "3. Recarregue esta página (Ctrl+R, ou ⌘+R, ou F5) e continue para próxima seção.\n",
    "\n",
    "_Notas_:\n",
    "* Caso o Colab Runtime resete (Ex: inatividade), repita o passo 2 e 3.\n",
    "* Template adaptado por João Paulo Gomes Bernardino\n"
   ]
  },
  {
   "cell_type": "code",
   "execution_count": null,
   "metadata": {
    "colab": {
     "base_uri": "https://localhost:8080/"
    },
    "id": "GIeFXS0F0zww",
    "outputId": "bf6c5cce-f2cd-42e5-dfb1-0951a5cadce4"
   },
   "outputs": [
    {
     "name": "stdout",
     "output_type": "stream",
     "text": [
      "Installing Julia 1.6.7 on the current Colab Runtime...\n",
      "2023-09-13 05:11:36 URL:https://storage.googleapis.com/julialang2/bin/linux/x64/1.6/julia-1.6.7-linux-x86_64.tar.gz [114281842/114281842] -> \"/tmp/julia.tar.gz\" [1]\n",
      "Installing Julia package IJulia...\n",
      "Installing Julia package BenchmarkTools...\n",
      "Installing IJulia kernel...\n",
      "\u001b[36m\u001b[1m[ \u001b[22m\u001b[39m\u001b[36m\u001b[1mInfo: \u001b[22m\u001b[39mInstalling julia kernelspec in /root/.local/share/jupyter/kernels/julia-1.6\n",
      "\n",
      "Julia julia version 1.6.7 instalado com sucesso!\n",
      "Recarregue esta página (pressione Ctrl+R, ⌘+R ou a tecla F5) e depois\n",
      "vá para a seção 'Verificação da Instalação'.\n"
     ]
    },
    {
     "data": {
      "text/plain": []
     },
     "execution_count": 1,
     "metadata": {},
     "output_type": "execute_result"
    }
   ],
   "source": [
    "%%shell\n",
    "set -e\n",
    "\n",
    "#---------------------------------------------------#\n",
    "JULIA_VERSION=\"1.6.7\" # any version ≥ 0.7.0\n",
    "JULIA_PACKAGES=\"IJulia BenchmarkTools\"\n",
    "JULIA_PACKAGES_IF_GPU=\"CUDA\" # or CuArrays for older Julia versions\n",
    "JULIA_NUM_THREADS=2\n",
    "#---------------------------------------------------#\n",
    "\n",
    "if [ -z `which julia` ]; then\n",
    "  # Install Julia\n",
    "  JULIA_VER=`cut -d '.' -f -2 <<< \"$JULIA_VERSION\"`\n",
    "  echo \"Installing Julia $JULIA_VERSION on the current Colab Runtime...\"\n",
    "  BASE_URL=\"https://julialang-s3.julialang.org/bin/linux/x64\"\n",
    "  URL=\"$BASE_URL/$JULIA_VER/julia-$JULIA_VERSION-linux-x86_64.tar.gz\"\n",
    "  wget -nv $URL -O /tmp/julia.tar.gz # -nv means \"not verbose\"\n",
    "  tar -x -f /tmp/julia.tar.gz -C /usr/local --strip-components 1\n",
    "  rm /tmp/julia.tar.gz\n",
    "\n",
    "  # Install Packages\n",
    "  nvidia-smi -L &> /dev/null && export GPU=1 || export GPU=0\n",
    "  if [ $GPU -eq 1 ]; then\n",
    "    JULIA_PACKAGES=\"$JULIA_PACKAGES $JULIA_PACKAGES_IF_GPU\"\n",
    "  fi\n",
    "  for PKG in `echo $JULIA_PACKAGES`; do\n",
    "    echo \"Installing Julia package $PKG...\"\n",
    "    julia -e 'using Pkg; pkg\"add '$PKG'; precompile;\"' &> /dev/null\n",
    "  done\n",
    "\n",
    "  # Install kernel and rename it to \"julia\"\n",
    "  echo \"Installing IJulia kernel...\"\n",
    "  julia -e 'using IJulia; IJulia.installkernel(\"julia\", env=Dict(\n",
    "      \"JULIA_NUM_THREADS\"=>\"'\"$JULIA_NUM_THREADS\"'\"))'\n",
    "  KERNEL_DIR=`julia -e \"using IJulia; print(IJulia.kerneldir())\"`\n",
    "  KERNEL_NAME=`ls -d \"$KERNEL_DIR\"/julia*`\n",
    "  mv -f $KERNEL_NAME \"$KERNEL_DIR\"/julia\n",
    "\n",
    "  echo ''\n",
    "  echo \"Julia `julia -v` instalado com sucesso!\"\n",
    "  echo \"Recarregue esta página (pressione Ctrl+R, ⌘+R ou a tecla F5) e depois\"\n",
    "  echo \"vá para a seção 'Verificação da Instalação'.\"\n",
    "fi"
   ]
  },
  {
   "cell_type": "markdown",
   "metadata": {
    "id": "8RC1QNNqk6h1"
   },
   "source": [
    "# Precisa de ajuda?\n",
    "\n",
    "* Apredizado: https://julialang.org/learning/\n",
    "* Documentação: https://docs.julialang.org/\n",
    "* Questões e Discurssões:\n",
    "  * https://discourse.julialang.org/\n",
    "  * http://julialang.slack.com/\n",
    "  * https://stackoverflow.com/questions/tagged/julia"
   ]
  },
  {
   "cell_type": "markdown",
   "metadata": {
    "id": "2UMidUQB03vJ"
   },
   "source": [
    "Adicione mais céluas utilizando  `+ Code`\n",
    "\n",
    "Divirta-se!\n",
    "\n",
    "<img src=\"https://raw.githubusercontent.com/JuliaLang/julia-logo-graphics/master/images/julia-logo-mask.png\" height=\"100\" />"
   ]
  },
  {
   "cell_type": "code",
   "execution_count": 3,
   "metadata": {
    "colab": {
     "base_uri": "https://localhost:8080/"
    },
    "id": "u7m9RnJN0JXY",
    "outputId": "1fa296b8-c4d6-4b2e-c4f8-4694257b2a1d"
   },
   "outputs": [
    {
     "name": "stdout",
     "output_type": "stream",
     "text": [
      "Julia Version 1.4.1\n",
      "Platform Info:\n",
      "  OS: Linux (x86_64-linux-gnu)\n",
      "  CPU: Intel(R) Core(TM) i5-8265U CPU @ 1.60GHz\n",
      "  WORD_SIZE: 64\n",
      "  LIBM: libopenlibm\n",
      "  LLVM: libLLVM-8.0.1 (ORCJIT, skylake)\n"
     ]
    }
   ],
   "source": [
    "versioninfo()"
   ]
  },
  {
   "cell_type": "markdown",
   "metadata": {
    "id": "a52q32e6r-3y"
   },
   "source": [
    "Para instalar mais pacotes adicione\n",
    "`;Pkg.add(\"Pacote\")` na célula abaixo"
   ]
  },
  {
   "cell_type": "code",
   "execution_count": 4,
   "metadata": {
    "colab": {
     "base_uri": "https://localhost:8080/"
    },
    "id": "dkKxIPOlg2B7",
    "outputId": "87f3ae49-02cd-489b-fdff-ff6ef5eecb4e"
   },
   "outputs": [
    {
     "name": "stderr",
     "output_type": "stream",
     "text": [
      "\u001b[32m\u001b[1m   Updating\u001b[22m\u001b[39m registry at `~/.julia/registries/General`\n"
     ]
    },
    {
     "name": "stdout",
     "output_type": "stream",
     "text": [
      "\u001b[?25l    "
     ]
    },
    {
     "name": "stderr",
     "output_type": "stream",
     "text": [
      "\u001b[32m\u001b[1m   Updating\u001b[22m\u001b[39m git-repo `https://github.com/JuliaRegistries/General.git`\n"
     ]
    },
    {
     "name": "stdout",
     "output_type": "stream",
     "text": [
      "\u001b[2K\u001b[?25h[1mFetching:\u001b[22m\u001b[39m [========================================>]  100.0 %2.9 %>                             ]  25.9 %\u001b[36m\u001b[1mFetching:\u001b[22m\u001b[39m [================>                        ]  38.8 %                   ]  51.6 %          ]  73.8 % [===================================>     ]  86.8 %"
     ]
    },
    {
     "name": "stderr",
     "output_type": "stream",
     "text": [
      "\u001b[32m\u001b[1m  Resolving\u001b[22m\u001b[39m package versions...\n",
      "\u001b[32m\u001b[1m   Updating\u001b[22m\u001b[39m `~/.julia/environments/v1.4/Project.toml`\n",
      "\u001b[90m [no changes]\u001b[39m\n",
      "\u001b[32m\u001b[1m   Updating\u001b[22m\u001b[39m `~/.julia/environments/v1.4/Manifest.toml`\n",
      "\u001b[90m [no changes]\u001b[39m\n",
      "\u001b[32m\u001b[1m  Resolving\u001b[22m\u001b[39m package versions...\n",
      "\u001b[32m\u001b[1m   Updating\u001b[22m\u001b[39m `~/.julia/environments/v1.4/Project.toml`\n",
      "\u001b[90m [no changes]\u001b[39m\n",
      "\u001b[32m\u001b[1m   Updating\u001b[22m\u001b[39m `~/.julia/environments/v1.4/Manifest.toml`\n",
      "\u001b[90m [no changes]\u001b[39m\n",
      "\u001b[32m\u001b[1m  Resolving\u001b[22m\u001b[39m package versions...\n",
      "\u001b[32m\u001b[1m   Updating\u001b[22m\u001b[39m `~/.julia/environments/v1.4/Project.toml`\n",
      "\u001b[90m [no changes]\u001b[39m\n",
      "\u001b[32m\u001b[1m   Updating\u001b[22m\u001b[39m `~/.julia/environments/v1.4/Manifest.toml`\n",
      "\u001b[90m [no changes]\u001b[39m\n"
     ]
    }
   ],
   "source": [
    "import Pkg; Pkg.add(\"JuMP\"); Pkg.add(\"Clp\") ; Pkg.add(\"Cbc\")"
   ]
  },
  {
   "cell_type": "code",
   "execution_count": 5,
   "metadata": {
    "id": "yWIsY0uPerxq"
   },
   "outputs": [
    {
     "name": "stdout",
     "output_type": "stream",
     "text": [
      "Introdução à Otimização Logística\n"
     ]
    }
   ],
   "source": [
    "println(\"Introdução à Otimização Logística\")"
   ]
  },
  {
   "cell_type": "markdown",
   "metadata": {
    "id": "AU70ORp-2h8r"
   },
   "source": [
    "Exemplo: Programação Linear - Problema da dieta"
   ]
  },
  {
   "cell_type": "code",
   "execution_count": 6,
   "metadata": {
    "colab": {
     "base_uri": "https://localhost:8080/",
     "height": 308
    },
    "id": "WFXnecux2fsj",
    "outputId": "de0f5a09-21c0-483d-90b7-a44dad19b70a"
   },
   "outputs": [
    {
     "data": {
      "text/latex": [
       "$$ \\begin{aligned}\n",
       "\\min\\quad & 0.6 x1 + 0.35 x2\\\\\n",
       "\\text{Subject to} \\quad & 5 x1 + 7 x2 \\geq 8.0\\\\\n",
       " & 4 x1 + 2 x2 \\geq 15.0\\\\\n",
       " & 2 x1 + x2 \\geq 3.0\\\\\n",
       " & x1 \\geq 0.0\\\\\n",
       " & x2 \\geq 0.0\\\\\n",
       "\\end{aligned} $$"
      ]
     },
     "metadata": {},
     "output_type": "display_data"
    },
    {
     "name": "stdout",
     "output_type": "stream",
     "text": [
      "Solução ótima:\n",
      "x1 = 3.75\n",
      "x2 = 0.0\n",
      "Coin0506I Presolve 3 (0) rows, 2 (0) columns and 6 (0) elements\n",
      "Clp0006I 0  Obj 0 Primal inf 6.3928568 (3)\n",
      "Clp0006I 1  Obj 2.25\n",
      "Clp0000I Optimal - objective value 2.25\n",
      "Clp0032I Optimal objective 2.25 - 1 iterations time 0.002\n"
     ]
    }
   ],
   "source": [
    "using JuMP, Clp\n",
    "\n",
    "# Preparando um modelo de otimização\n",
    "m = Model(Clp.Optimizer)\n",
    "\n",
    "# Declarando as variáveis\n",
    "@variable(m, x1 >= 0)\n",
    "@variable(m, x2 >= 0)\n",
    "\n",
    "# Definindo a função objetivo\n",
    "@objective(m, Min, 0.6x1 + 0.35x2)\n",
    "\n",
    "# Adicionando as restrições\n",
    "@constraint(m, constraint1, 5x1 +  7x2 >= 8)\n",
    "@constraint(m, constraint2,  4x1 + 2x2 >= 15)\n",
    "@constraint(m, constraint3,  2x1 + x2 >= 3)\n",
    "\n",
    "# Imprimindo o modelo criado\n",
    "print(m)\n",
    "\n",
    "# Resolvendo o modelo de otimização\n",
    "status = JuMP.optimize!(m)\n",
    "\n",
    "# Imprimindo a solução ótima\n",
    "println(\"Solução ótima:\")\n",
    "println(\"x1 = \", JuMP.value(x1))\n",
    "println(\"x2 = \", JuMP.value(x2))"
   ]
  },
  {
   "cell_type": "markdown",
   "metadata": {
    "id": "2lzJEmKL3lZq"
   },
   "source": [
    "Exemplo: Programação Linear - Problema de transporte"
   ]
  },
  {
   "cell_type": "code",
   "execution_count": 1,
   "metadata": {
    "colab": {
     "base_uri": "https://localhost:8080/",
     "height": 530
    },
    "id": "tdWz9gkR3nu5",
    "outputId": "667ce967-4b46-4fc2-aefe-bc58c941dd94"
   },
   "outputs": [
    {
     "data": {
      "text/latex": [
       "$$ \\begin{aligned}\n",
       "\\min\\quad & 5 x_{1,1} + 5 x_{1,2} + 3 x_{1,3} + 6 x_{2,1} + 4 x_{2,2} + x_{2,3}\\\\\n",
       "\\text{Subject to} \\quad & x_{1,1} + x_{2,1} = 8.0\\\\\n",
       " & x_{1,2} + x_{2,2} = 5.0\\\\\n",
       " & x_{1,3} + x_{2,3} = 2.0\\\\\n",
       " & x_{1,1} + x_{1,2} + x_{1,3} = 6.0\\\\\n",
       " & x_{2,1} + x_{2,2} + x_{2,3} = 9.0\\\\\n",
       " & x_{1,1} \\geq 0.0\\\\\n",
       " & x_{2,1} \\geq 0.0\\\\\n",
       " & x_{1,2} \\geq 0.0\\\\\n",
       " & x_{2,2} \\geq 0.0\\\\\n",
       " & x_{1,3} \\geq 0.0\\\\\n",
       " & x_{2,3} \\geq 0.0\\\\\n",
       "\\end{aligned} $$"
      ]
     },
     "metadata": {},
     "output_type": "display_data"
    },
    {
     "name": "stdout",
     "output_type": "stream",
     "text": [
      "Solução ótima:\n",
      "x[1,1] =6.0\n",
      "x[1,2] =0.0\n",
      "x[1,3] =0.0\n",
      "x[2,1] =2.0\n",
      "x[2,2] =5.0\n",
      "x[2,3] =2.0\n",
      "Coin0506I Presolve 0 (-5) rows, 0 (-6) columns and 0 (-12) elements\n",
      "Clp3002W Empty problem - 0 rows, 0 columns and 0 elements\n",
      "Clp0000I Optimal - objective value 64\n",
      "Coin0511I After Postsolve, objective 64, infeasibilities - dual 0 (0), primal 0 (0)\n",
      "Clp0032I Optimal objective 64 - 0 iterations time 0.002, Presolve 0.00\n"
     ]
    }
   ],
   "source": [
    "using JuMP, Clp\n",
    "\n",
    "# Preparando um modelo de otimização\n",
    "m = Model(Clp.Optimizer)\n",
    "\n",
    "#Dados de entrada\n",
    "F = [1,2]\n",
    "C = [1,2,3]\n",
    "dem = [8 5 2]\n",
    "sup = [6 9]\n",
    "custo = [5 5 3 ; 6 4 1]\n",
    "\n",
    "# Declarando as variáveis\n",
    "@variable(m, x[i in F,j in C] >= 0)\n",
    "\n",
    "# Definindo a função objetivo\n",
    "@objective(m, Min, sum(custo[i,j]*x[i,j] for i in F, j in C))\n",
    "\n",
    "# Adicionando as restrições\n",
    "@constraint(m, satisfazdemanda[j in C], sum(x[i,j] for i in F) == dem[j] )\n",
    "@constraint(m, respeitasuprimentos[i in F], sum(x[i,j] for j in C) == sup[i] )\n",
    "\n",
    "# Imprimindo o modelo criado\n",
    "print(m)\n",
    "\n",
    "# Resolvendo o modelo de otimização\n",
    "JuMP.optimize!(m)\n",
    "\n",
    "# Imprimindo a solução ótima\n",
    "println(\"Solução ótima:\")\n",
    "for i in F, j in C\n",
    "\tprintln(\"x[\",i,\",\",j,\"] =\" , JuMP.value(x[i,j]))\n",
    "end"
   ]
  },
  {
   "cell_type": "markdown",
   "metadata": {
    "id": "3WniFHS4r1Uu"
   },
   "source": [
    "Exemplo: Programação Linear Inteira - Problema da mochila inteira"
   ]
  },
  {
   "cell_type": "code",
   "execution_count": 2,
   "metadata": {
    "colab": {
     "base_uri": "https://localhost:8080/",
     "height": 1000
    },
    "id": "LADJgoBYfM5j",
    "outputId": "e5269020-2080-4588-9bd7-f1fa8caa2d06"
   },
   "outputs": [
    {
     "data": {
      "text/latex": [
       "$$ \\begin{aligned}\n",
       "\\max\\quad & 10 x_{1} + 12 x_{2} + 7 x_{3} + 5 x_{4} + 12 x_{5} + 18 x_{6} + 6 x_{7} + 4 x_{8} + 3 x_{9} + 9 x_{10}\\\\\n",
       "\\text{Subject to} \\quad & 5 x_{1} + 7 x_{2} + 6 x_{3} + 10 x_{4} + 12 x_{5} + 8 x_{6} + 4 x_{7} + 2 x_{8} + 3 x_{9} + 9 x_{10} \\leq 18.0\\\\\n",
       " & x_{1} \\geq 0.0\\\\\n",
       " & x_{2} \\geq 0.0\\\\\n",
       " & x_{3} \\geq 0.0\\\\\n",
       " & x_{4} \\geq 0.0\\\\\n",
       " & x_{5} \\geq 0.0\\\\\n",
       " & x_{6} \\geq 0.0\\\\\n",
       " & x_{7} \\geq 0.0\\\\\n",
       " & x_{8} \\geq 0.0\\\\\n",
       " & x_{9} \\geq 0.0\\\\\n",
       " & x_{10} \\geq 0.0\\\\\n",
       " & x_{1} \\in \\mathbb{Z}\\\\\n",
       " & x_{2} \\in \\mathbb{Z}\\\\\n",
       " & x_{3} \\in \\mathbb{Z}\\\\\n",
       " & x_{4} \\in \\mathbb{Z}\\\\\n",
       " & x_{5} \\in \\mathbb{Z}\\\\\n",
       " & x_{6} \\in \\mathbb{Z}\\\\\n",
       " & x_{7} \\in \\mathbb{Z}\\\\\n",
       " & x_{8} \\in \\mathbb{Z}\\\\\n",
       " & x_{9} \\in \\mathbb{Z}\\\\\n",
       " & x_{10} \\in \\mathbb{Z}\\\\\n",
       "\\end{aligned} $$"
      ]
     },
     "metadata": {},
     "output_type": "display_data"
    },
    {
     "name": "stdout",
     "output_type": "stream",
     "text": [
      "Solução ótima:\n",
      "x[1] =0.0\n",
      "x[2] =0.0\n",
      "x[3] =0.0\n",
      "x[4] =0.0\n",
      "x[5] =0.0\n",
      "x[6] =2.0\n",
      "x[7] =0.0\n",
      "x[8] =1.0\n",
      "x[9] =0.0\n",
      "x[10] =0.0\n",
      "Welcome to the CBC MILP Solver \n",
      "Version: 2.10.5 \n",
      "Build Date: Jan  1 1970 \n",
      "\n",
      "command line - Cbc_C_Interface -solve -quit (default strategy 1)\n",
      "Continuous objective value is 40.5 - 0.00 seconds\n",
      "Cgl0004I processed model has 1 rows, 10 columns (10 integer (2 of which binary)) and 10 elements\n",
      "Cutoff increment increased from 1e-05 to 0.9999\n",
      "Cbc0012I Integer solution of -36 found by DiveCoefficient after 0 iterations and 0 nodes (0.00 seconds)\n",
      "Cbc0012I Integer solution of -40 found by DiveCoefficient after 1 iterations and 0 nodes (0.00 seconds)\n",
      "Cbc0031I 1 added rows had average density of 2\n",
      "Cbc0013I At root node, 1 cuts changed objective from -40 to -40 in 2 passes\n",
      "Cbc0014I Cut generator 0 (Probing) - 0 row cuts average 0.0 elements, 3 column cuts (3 active)  in 0.000 seconds - new frequency is 1\n",
      "Cbc0014I Cut generator 1 (Gomory) - 1 row cuts average 2.0 elements, 0 column cuts (0 active)  in 0.000 seconds - new frequency is 1\n",
      "Cbc0014I Cut generator 2 (Knapsack) - 0 row cuts average 0.0 elements, 0 column cuts (0 active)  in 0.000 seconds - new frequency is -100\n",
      "Cbc0014I Cut generator 3 (Clique) - 0 row cuts average 0.0 elements, 0 column cuts (0 active)  in 0.000 seconds - new frequency is -100\n",
      "Cbc0014I Cut generator 4 (MixedIntegerRounding2) - 0 row cuts average 0.0 elements, 0 column cuts (0 active)  in 0.000 seconds - new frequency is -100\n",
      "Cbc0014I Cut generator 5 (FlowCover) - 0 row cuts average 0.0 elements, 0 column cuts (0 active)  in 0.000 seconds - new frequency is -100\n",
      "Cbc0014I Cut generator 6 (TwoMirCuts) - 1 row cuts average 2.0 elements, 0 column cuts (0 active)  in 0.000 seconds - new frequency is -100\n",
      "Cbc0001I Search completed - best objective -40, took 1 iterations and 0 nodes (0.00 seconds)\n",
      "Cbc0035I Maximum depth 0, 2 variables fixed on reduced cost\n",
      "Cuts at root node changed objective from -40 to -40\n",
      "Probing was tried 2 times and created 3 cuts of which 0 were active after adding rounds of cuts (0.000 seconds)\n",
      "Gomory was tried 2 times and created 1 cuts of which 0 were active after adding rounds of cuts (0.000 seconds)\n",
      "Knapsack was tried 2 times and created 0 cuts of which 0 were active after adding rounds of cuts (0.000 seconds)\n",
      "Clique was tried 2 times and created 0 cuts of which 0 were active after adding rounds of cuts (0.000 seconds)\n",
      "MixedIntegerRounding2 was tried 2 times and created 0 cuts of which 0 were active after adding rounds of cuts (0.000 seconds)\n",
      "FlowCover was tried 2 times and created 0 cuts of which 0 were active after adding rounds of cuts (0.000 seconds)\n",
      "TwoMirCuts was tried 2 times and created 1 cuts of which 0 were active after adding rounds of cuts (0.000 seconds)\n",
      "ZeroHalf was tried 1 times and created 0 cuts of which 0 were active after adding rounds of cuts (0.000 seconds)\n",
      "\n",
      "Result - Optimal solution found\n",
      "\n",
      "Objective value:                40.00000000\n",
      "Enumerated nodes:               0\n",
      "Total iterations:               1\n",
      "Time (CPU seconds):             0.00\n",
      "Time (Wallclock seconds):       0.01\n",
      "\n",
      "Total time (CPU seconds):       0.00   (Wallclock seconds):       0.02\n",
      "\n"
     ]
    }
   ],
   "source": [
    "using JuMP, Cbc\n",
    "\n",
    "# Preparando um modelo de otimização\n",
    "m = Model(Cbc.Optimizer)\n",
    "\n",
    "#Dados de entrada\n",
    "\n",
    "beneficios = [10, 12, 7, 5, 12, 18, 6, 4 , 3, 9]\n",
    "pesos = [5, 7, 6, 10, 12, 8, 4, 2 , 3, 9]\n",
    "capacidade = 18\n",
    "\n",
    "nitens = length(beneficios)\n",
    "\n",
    "# Declarando as variáveis\n",
    "@variable(m, x[i in 1:nitens] >= 0, Int)\n",
    "\n",
    "# Definindo a função objetivo\n",
    "@objective(m, Max, sum(beneficios[i]*x[i] for i in 1:nitens))\n",
    "\n",
    "# Adicionando as restrições\n",
    "@constraint(m, restricaomochila, sum(pesos[i]*x[i] for i in 1:nitens) <= capacidade )\n",
    "\n",
    "# Imprimindo o modelo criado\n",
    "print(m)\n",
    "\n",
    "# Resolvendo o modelo de otimização\n",
    "JuMP.optimize!(m)\n",
    "\n",
    "# Imprimindo a solução ótima\n",
    "println(\"Solução ótima:\")\n",
    "for i in 1:nitens\n",
    "\tprintln(\"x[\",i,\"] =\" , JuMP.value(x[i]))\n",
    "end\n"
   ]
  },
  {
   "cell_type": "code",
   "execution_count": null,
   "metadata": {},
   "outputs": [],
   "source": [
    "using JuMP, Cbc\n",
    "\n",
    "# Preparando um modelo de otimização\n",
    "m = Model(Cbc.Optimizer)\n",
    "\n",
    "#Dados de entrada\n",
    "\n",
    "beneficios = [10, 12, 7, 5, 12, 18, 6, 4 , 3, 9]\n",
    "pesos = [5, 7, 6, 10, 12, 8, 4, 2 , 3, 9]\n",
    "capacidade = 18\n",
    "\n",
    "nitens = length(beneficios)\n",
    "\n",
    "# Declarando as variáveis\n",
    "@variable(m, x[i in 1:nitens] >= 0, Int)\n",
    "\n",
    "# Definindo a função objetivo\n",
    "@objective(m, Max, sum(beneficios[i]*x[i] for i in 1:nitens))\n",
    "\n",
    "# Adicionando as restrições\n",
    "@constraint(m, restricaomochila, sum(pesos[i]*x[i] for i in 1:nitens) <= capacidade )\n",
    "\n",
    "# Imprimindo o modelo criado\n",
    "print(m)\n",
    "\n",
    "# Resolvendo o modelo de otimização\n",
    "JuMP.optimize!(m)\n",
    "\n",
    "# Imprimindo a solução ótima\n",
    "println(\"Solução ótima:\")\n",
    "for i in 1:nitens\n",
    "\tprintln(\"x[\",i,\"] =\" , JuMP.value(x[i]))\n",
    "end\n"
   ]
  }
 ],
 "metadata": {
  "colab": {
   "provenance": []
  },
  "kernelspec": {
   "display_name": "Julia 1.4.1",
   "language": "julia",
   "name": "julia-1.4"
  },
  "language_info": {
   "file_extension": ".jl",
   "mimetype": "application/julia",
   "name": "julia",
   "version": "1.4.1"
  }
 },
 "nbformat": 4,
 "nbformat_minor": 4
}

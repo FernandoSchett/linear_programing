{
  "cells": [
    {
      "cell_type": "markdown",
      "metadata": {
        "id": "ffosuXgW4yz2"
      },
      "source": [
        "# Batch sizing enabled with multiple products and setup times"
      ]
    },
    {
      "cell_type": "markdown",
      "metadata": {
        "id": "-NlJtqql5XjZ"
      },
      "source": [
        "### Objetivos:\n",
        "\n",
        "- **Modelar** soluções para o problema de programação linear para _BS_.\n",
        "- **Implementar** a solução do problema em Julia."
      ]
    },
    {
      "cell_type": "markdown",
      "metadata": {
        "id": "wyRSWhwa6T3n"
      },
      "source": [
        "O desafio do planejamento de produção de múltiplos itens em empresas que fabricam uma variedade de produtos é otimizar os recursos para maximizar os lucros ou minimizar os custos. Isso requer que os alunos formalizem, formulem e implementem uma solução em código. O problema envolve produtos com custos fixos, custos variáveis, custos de estoque, tempos de setup e tempos de produção, além de restrições de tempo de produção por período.\n",
        "\n",
        "Com isso deseja-se determinar o planejamento de produção de múltiplos itens em um horizonte de planejamento de _T_ períodos:\n",
        "\n",
        "- A produção de cada produto em um determinado período incorre um custo fixo que independe da quantidade e um custo por quantidade produzida;\n",
        "- Há custos de estoque para cada produto por quantidade em inventário;\n",
        "- Há um tempo gasto para o setup de cada produto bem como um tempo por unidade produzida do produto;\n",
        "- Há um limite no tempo total utilizado na produção em cada período.\n",
        "\n",
        "O programa solução calculará a quantidade a ser produzida de cada produto em cada período, com o objetivo de minimizar os custos totais, respeitando todas as restrições. Isso requer a aplicação de conhecimentos em otimização e programação linear.\n",
        "\n",
        "Fique a vontade para checar os [rascunhos](https://www.canva.com/design/DAFvpFclQdA/YVYGJANahDe6_JfbGyDtPA/edit?utm_content=DAFvpFclQdA&utm_campaign=designshare&utm_medium=link2&utm_source=sharebutton) escritos durante a modelagem do problema original."
      ]
    },
    {
      "cell_type": "markdown",
      "metadata": {
        "id": "Hr3whgxT757J"
      },
      "source": [
        "## Variáveis do problema:\n",
        "\n",
        "- Descreve a quantidade **produzida** de um item _j_ no dia _i_:\n",
        "$$qntprod_{item_jdia_i} \\in \\mathbb{N}$$\n",
        "\n",
        "- Descreve a quantidade **estocada** de um item _j_ no dia _i_:\n",
        "$$qntstocada_{item _jdia_i}\\in \\mathbb{N}$$\n",
        "\n",
        "- Indica se ouve ou não **produção** de um item _j_ no dia _i_:\n",
        "$$houveprod_{item _jdia_i} \\in \\{0,1\\}$$"
      ]
    },
    {
      "cell_type": "markdown",
      "metadata": {
        "id": "HXW_iv_TsgHl"
      },
      "source": [
        "## Função Objetivo:\n",
        "\n",
        "O objetivo do problema é reduzir o custo total da operação com base na caracteristicas do problema. Desta forma, definimos a função objetivo:"
      ]
    },
    {
      "cell_type": "markdown",
      "metadata": {
        "id": "JNMDZx9Znym2"
      },
      "source": [
        "\\begin{align*}\n",
        "custototal(args[]) = \\min \\{\\sum_{j=1}^{itens} \\sum_{i=1}^{períodos} custoprod_{item _jdia_i}.qntprod_{item_jdia_i} + qntstocada_{item _jdia_i}.custostoque_{item_jdia_i} + custosetup_{item _jdia_i}*houveprod_{item _jdia_i}\\}\n",
        "\\end{align*}"
      ]
    },
    {
      "cell_type": "markdown",
      "metadata": {
        "id": "fIkEdd5Nsc53"
      },
      "source": [
        "A fórmula leva em consideração o custo de produção para cada item produzido, a custo de armazenamento de cada produto e o custo de setup se houve produção no dia para cada combinação de _item_ ( $j$ ) e _período_ ( $i$ ), para que cada item diferente em cada período seja considerada em suas especificidades. Por isso, os argumentos _args_ da função são descritos por:"
      ]
    },
    {
      "cell_type": "markdown",
      "metadata": {
        "id": "ksJUo1a5vt7i"
      },
      "source": [
        "\\begin{align*}\n",
        "args[] = [demanda[itens][periodos], custosetup[itens][periodos], custoprod[itens][periodos], custostoque[itens][periodos], tempoprod[itens], temposetup[itens], tempomax[periodos]]  \n",
        "\\end{align*}"
      ]
    },
    {
      "cell_type": "markdown",
      "metadata": {
        "id": "rnz28dv7tmbq"
      },
      "source": [
        "## Restrições:\n",
        "\n",
        "Para garantir que as condições sejam satisfeitas, foram modeladas <strong>restrições</strong>. Para assegurar que o tempo de produção não seja superior ao tempo máximo daquele período, estabeleceu-se a seguinte restrição:"
      ]
    },
    {
      "cell_type": "markdown",
      "metadata": {
        "id": "dkdSYp8It05W"
      },
      "source": [
        "\\begin{align*}\n",
        "tempomax_{dia_i} \\geq \\sum_{j=1}^{itens} tempoprod_{item_j}.qntprod_{item_jdia_i} + \\sum_{j=1}^{itens} custosetup_{dia_i}.houveprod_{item _jdia_i}\n",
        "\\end{align*}"
      ]
    },
    {
      "cell_type": "markdown",
      "metadata": {
        "id": "urH3NLwCzYtu"
      },
      "source": [
        "Para garantir que a demanda de cada dia seja cumprida, bem como para manter a relação entre o armazenamento de um período para outro e a demanda do dia, foi modelada as seguintes restrições:"
      ]
    },
    {
      "cell_type": "markdown",
      "metadata": {
        "id": "KgjLiFMT1Nyb"
      },
      "source": [
        "\\begin{align*}\n",
        "qntstocada_{item _jdia_1} = qntprod_{item_jdia_1} - demanda_{item_jdia_1}\n",
        "\\end{align*}"
      ]
    },
    {
      "cell_type": "markdown",
      "metadata": {
        "id": "lqnzviCJ0cRM"
      },
      "source": [
        "\\begin{align*}\n",
        "qntstocada_{item _jdia_i} = qntprod_{item_jdia_i} - demanda_{item_jdia_i} + qntstocada_{item _jdia_i-1}  \\forall i > 1\n",
        "\\end{align*}"
      ]
    },
    {
      "cell_type": "markdown",
      "metadata": {
        "id": "v8d6ODoC2XuT"
      },
      "source": [
        "Por último, para garantir que o solver tenha que calcular os custos de configuração do item nos dias em que haja produção, se houver produção no dia, a variável _houveprod_ deve ser igual a 1. Para isso, utilizamos a seguinte restrição:"
      ]
    },
    {
      "cell_type": "markdown",
      "metadata": {
        "id": "10ZIbFeC1-fg"
      },
      "source": [
        "\\begin{align*}\n",
        "qntprod_{item_jdia_i} \\geq \\sum_{i=1}^{períodos} demanda_{item_jdia_i}.houveprod_{item _jdia_i}\n",
        "\\end{align*}\n"
      ]
    },
    {
      "cell_type": "markdown",
      "metadata": {
        "id": "bnls-9Vj4E9G"
      },
      "source": [
        "## Implementação em Julia:"
      ]
    },
    {
      "cell_type": "markdown",
      "metadata": {
        "id": "CKVP8iCgye6U"
      },
      "source": [
        "Prepare o ambiente de execução (Google Colab):"
      ]
    },
    {
      "cell_type": "code",
      "execution_count": null,
      "metadata": {
        "colab": {
          "base_uri": "https://localhost:8080/"
        },
        "id": "1ZSlsX38GndI",
        "outputId": "e1b2eb68-a175-4711-ceb1-3f84a40f09d6"
      },
      "outputs": [],
      "source": [
        "%%shell\n",
        "set -e\n",
        "\n",
        "#---------------------------------------------------#\n",
        "JULIA_VERSION=\"1.6.7\" # any version ≥ 0.7.0\n",
        "JULIA_PACKAGES=\"IJulia BenchmarkTools\"\n",
        "JULIA_PACKAGES_IF_GPU=\"CUDA\" # or CuArrays for older Julia versions\n",
        "JULIA_NUM_THREADS=2\n",
        "#---------------------------------------------------#\n",
        "\n",
        "if [ -z `which julia` ]; then\n",
        "  # Install Julia\n",
        "  JULIA_VER=`cut -d '.' -f -2 <<< \"$JULIA_VERSION\"`\n",
        "  echo \"Installing Julia $JULIA_VERSION on the current Colab Runtime...\"\n",
        "  BASE_URL=\"https://julialang-s3.julialang.org/bin/linux/x64\"\n",
        "  URL=\"$BASE_URL/$JULIA_VER/julia-$JULIA_VERSION-linux-x86_64.tar.gz\"\n",
        "  wget -nv $URL -O /tmp/julia.tar.gz # -nv means \"not verbose\"\n",
        "  tar -x -f /tmp/julia.tar.gz -C /usr/local --strip-components 1\n",
        "  rm /tmp/julia.tar.gz\n",
        "\n",
        "  # Install Packages\n",
        "  nvidia-smi -L &> /dev/null && export GPU=1 || export GPU=0\n",
        "  if [ $GPU -eq 1 ]; then\n",
        "    JULIA_PACKAGES=\"$JULIA_PACKAGES $JULIA_PACKAGES_IF_GPU\"\n",
        "  fi\n",
        "  for PKG in `echo $JULIA_PACKAGES`; do\n",
        "    echo \"Installing Julia package $PKG...\"\n",
        "    julia -e 'using Pkg; pkg\"add '$PKG'; precompile;\"' &> /dev/null\n",
        "  done\n",
        "\n",
        "  # Install kernel and rename it to \"julia\"\n",
        "  echo \"Installing IJulia kernel...\"\n",
        "  julia -e 'using IJulia; IJulia.installkernel(\"julia\", env=Dict(\n",
        "      \"JULIA_NUM_THREADS\"=>\"'\"$JULIA_NUM_THREADS\"'\"))'\n",
        "  KERNEL_DIR=`julia -e \"using IJulia; print(IJulia.kerneldir())\"`\n",
        "  KERNEL_NAME=`ls -d \"$KERNEL_DIR\"/julia*`\n",
        "  mv -f $KERNEL_NAME \"$KERNEL_DIR\"/julia\n",
        "\n",
        "  echo ''\n",
        "  echo \"Julia `julia -v` instalado com sucesso!\"\n",
        "  echo \"vá para a seção 'Verificação da Instalação'.\"\n",
        "fi"
      ]
    },
    {
      "cell_type": "markdown",
      "metadata": {
        "id": "cCg4r7VkxcuB"
      },
      "source": [
        "Importe os pacotes do Solver de problemas lineares:"
      ]
    },
    {
      "cell_type": "code",
      "execution_count": null,
      "metadata": {
        "colab": {
          "base_uri": "https://localhost:8080/"
        },
        "id": "BgS5IZT_GnLL",
        "outputId": "333d0931-dc93-40b0-89cf-37cf1c78e0a0"
      },
      "outputs": [],
      "source": [
        "import Pkg; Pkg.add(\"JuMP\"); Pkg.add(\"Cbc\")"
      ]
    },
    {
      "cell_type": "markdown",
      "metadata": {
        "id": "391Bubv8xiJ4"
      },
      "source": [
        "Declare o modelo, e defina tempo limite para processamento:"
      ]
    },
    {
      "cell_type": "code",
      "execution_count": null,
      "metadata": {
        "id": "povwAi9SxJQ4"
      },
      "outputs": [],
      "source": [
        "using JuMP, Cbc\n",
        "model = Model(Cbc.Optimizer)\n",
        "set_time_limit_sec(model,30)"
      ]
    },
    {
      "cell_type": "markdown",
      "metadata": {
        "id": "wGsMYhnjxohq"
      },
      "source": [
        "Exemplos de entrada:"
      ]
    },
    {
      "cell_type": "code",
      "execution_count": null,
      "metadata": {
        "colab": {
          "base_uri": "https://localhost:8080/"
        },
        "id": "19NLye5ZxOKy",
        "outputId": "211303ac-27b7-418c-825a-f3b14b7853e6"
      },
      "outputs": [],
      "source": [
        "# Exemplo 1:\n",
        "n_items = 3\n",
        "n_periods = 7\n",
        "demand = [118 85 110 77 92 99 94; 123 0 97 0 78 122 120; 0 85 125 95 117 119 78]\n",
        "setup_cost = [1000.0 800.0 500.0 700.0 100.0 500.0 800.0; 800.0 400.0 800.0 600.0 400.0 600.0 800.0; 200.0 400.0 300.0 600.0 1000.0 1000.0 300.0]\n",
        "perunit_cost = [0.0 0.0 0.0 0.0 0.0 0.0 0.0; 0.0 0.0 0.0 0.0 0.0 0.0 0.0; 0.0 0.0 0.0 0.0 0.0 0.0 0.0]\n",
        "storage_cost = [4.0 4.0 1.0 4.0 2.0 4.0 4.0; 2.0 5.0 2.0 3.0 2.0 4.0 4.0; 4.0 5.0 3.0 1.0 4.0 3.0 5.0]\n",
        "setup_time = [40.0, 40.0, 10.0]\n",
        "perunit_time = [1.0, 1.0, 1.0]\n",
        "capacity = [469, 469, 469, 469, 469, 469, 469]"
      ]
    },
    {
      "cell_type": "code",
      "execution_count": null,
      "metadata": {
        "id": "CSCDKTrUxZpr"
      },
      "outputs": [],
      "source": [
        "# Exemplo 2:\n",
        "n_items = 10\n",
        "n_periods = 15\n",
        "demand = [0 81 94 0 99 123 91 118 123 114 111 119 77 81 113; 86 0 0 97 77 121 115 115 101 86 98 125 122 94 114; 0 76 113 93 94 103 113 116 86 98 112 105 117 125 94; 86 123 112 97 80 116 111 98 94 116 91 80 107 79 108; 97 0 120 0 123 109 125 89 94 110 90 78 105 92 121; 83 86 0 88 92 123 116 120 101 89 81 111 77 88 79; 76 79 90 88 93 112 123 87 121 77 110 80 93 111 108; 119 92 0 92 117 104 84 123 93 78 98 107 104 107 90; 0 124 78 107 114 90 102 103 109 108 100 122 81 114 83; 97 100 0 85 114 104 109 92 95 87 117 111 94 116 107]\n",
        "setup_cost = [700.0 700.0 400.0 400.0 200.0 100.0 900.0 100.0 100.0 400.0 300.0 500.0 700.0 300.0 300.0; 700.0 200.0 200.0 400.0 500.0 1000.0 100.0 100.0 400.0 200.0 800.0 700.0 500.0 800.0 100.0; 800.0 700.0 700.0 600.0 1000.0 400.0 500.0 600.0 800.0 100.0 500.0 600.0 300.0 1000.0 800.0; 400.0 100.0 400.0 900.0 500.0 500.0 200.0 900.0 100.0 300.0 800.0 700.0 900.0 100.0 500.0; 700.0 800.0 300.0 600.0 700.0 800.0 600.0 100.0 300.0 500.0 800.0 700.0 1000.0 400.0 1000.0; 400.0 600.0 900.0 600.0 100.0 100.0 100.0 100.0 900.0 800.0 600.0 200.0 500.0 1000.0 800.0; 200.0 600.0 200.0 500.0 700.0 300.0 800.0 100.0 300.0 700.0 600.0 800.0 1000.0 600.0 400.0; 700.0 400.0 700.0 1000.0 200.0 700.0 400.0 600.0 500.0 1000.0 400.0 700.0 800.0 800.0 300.0; 600.0 200.0 900.0 300.0 700.0 500.0 200.0 400.0 200.0 1000.0 800.0 700.0 100.0 700.0 800.0; 200.0 100.0 400.0 400.0 700.0 500.0 600.0 900.0 300.0 500.0 800.0 1000.0 300.0 800.0 1000.0]\n",
        "perunit_cost = [0.0 0.0 0.0 0.0 0.0 0.0 0.0 0.0 0.0 0.0 0.0 0.0 0.0 0.0 0.0; 0.0 0.0 0.0 0.0 0.0 0.0 0.0 0.0 0.0 0.0 0.0 0.0 0.0 0.0 0.0; 0.0 0.0 0.0 0.0 0.0 0.0 0.0 0.0 0.0 0.0 0.0 0.0 0.0 0.0 0.0; 0.0 0.0 0.0 0.0 0.0 0.0 0.0 0.0 0.0 0.0 0.0 0.0 0.0 0.0 0.0; 0.0 0.0 0.0 0.0 0.0 0.0 0.0 0.0 0.0 0.0 0.0 0.0 0.0 0.0 0.0; 0.0 0.0 0.0 0.0 0.0 0.0 0.0 0.0 0.0 0.0 0.0 0.0 0.0 0.0 0.0; 0.0 0.0 0.0 0.0 0.0 0.0 0.0 0.0 0.0 0.0 0.0 0.0 0.0 0.0 0.0; 0.0 0.0 0.0 0.0 0.0 0.0 0.0 0.0 0.0 0.0 0.0 0.0 0.0 0.0 0.0; 0.0 0.0 0.0 0.0 0.0 0.0 0.0 0.0 0.0 0.0 0.0 0.0 0.0 0.0 0.0; 0.0 0.0 0.0 0.0 0.0 0.0 0.0 0.0 0.0 0.0 0.0 0.0 0.0 0.0 0.0]\n",
        "storage_cost = [2.0 3.0 5.0 5.0 3.0 3.0 4.0 1.0 1.0 3.0 3.0 5.0 1.0 3.0 1.0; 5.0 2.0 2.0 2.0 1.0 1.0 1.0 2.0 2.0 1.0 4.0 5.0 3.0 4.0 2.0; 3.0 2.0 2.0 3.0 5.0 5.0 2.0 2.0 3.0 5.0 4.0 5.0 2.0 1.0 3.0; 4.0 1.0 4.0 5.0 5.0 5.0 4.0 5.0 3.0 1.0 4.0 3.0 5.0 1.0 2.0; 3.0 2.0 1.0 3.0 2.0 2.0 1.0 3.0 5.0 2.0 5.0 1.0 4.0 5.0 3.0; 1.0 5.0 3.0 4.0 2.0 4.0 1.0 1.0 2.0 4.0 2.0 4.0 4.0 5.0 3.0; 3.0 1.0 2.0 3.0 1.0 3.0 4.0 3.0 5.0 3.0 4.0 3.0 3.0 1.0 3.0; 5.0 5.0 3.0 5.0 2.0 2.0 5.0 3.0 5.0 4.0 5.0 2.0 4.0 2.0 5.0; 1.0 3.0 1.0 2.0 1.0 2.0 4.0 4.0 5.0 5.0 2.0 1.0 1.0 1.0 2.0; 3.0 4.0 2.0 5.0 4.0 2.0 2.0 3.0 1.0 4.0 5.0 4.0 3.0 4.0 4.0]\n",
        "setup_time = [10.0, 40.0, 20.0, 50.0, 10.0, 20.0, 40.0, 50.0, 10.0, 40.0]\n",
        "perunit_time = [1.0, 1.0, 1.0, 1.0, 1.0, 1.0, 1.0, 1.0, 1.0, 1.0]\n",
        "capacity = [1114, 1114, 1114, 1114, 1114, 1114, 1114, 1114, 1114, 1114, 1114, 1114, 1114, 1114, 1114]"
      ]
    },
    {
      "cell_type": "markdown",
      "metadata": {
        "id": "8B6S5Ao6xtmx"
      },
      "source": [
        "Declare as variáveis:"
      ]
    },
    {
      "cell_type": "code",
      "execution_count": null,
      "metadata": {
        "colab": {
          "base_uri": "https://localhost:8080/"
        },
        "id": "EqOKUExexwdR",
        "outputId": "c898cbb4-5fd4-43a9-aa7d-4b13f1293fbb"
      },
      "outputs": [],
      "source": [
        "@variable(model,z)\n",
        "@variable(model,x[i in 1:n_items, j in 1:n_periods],Bin)\n",
        "@variable(model,y[i in 1:n_items, j in 1:n_periods] >= 0)\n",
        "@variable(model,storage[i in 1:n_items, j in 1:n_periods] >=0 )"
      ]
    },
    {
      "cell_type": "markdown",
      "metadata": {
        "id": "hEycP9soyKwD"
      },
      "source": [
        "Declare a função objetivo:"
      ]
    },
    {
      "cell_type": "code",
      "execution_count": null,
      "metadata": {
        "colab": {
          "base_uri": "https://localhost:8080/",
          "height": 106
        },
        "id": "lKOCBuVFx8tr",
        "outputId": "b95f62e0-04e4-4816-931c-0d325583f9bc"
      },
      "outputs": [],
      "source": [
        "z = sum( sum(perunit_cost[i,j]y[i,j] + storage_cost[i,j]storage[i,j] + setup_cost[i,j]x[i,j] for i in 1:n_items) for j in 1:n_periods)\n",
        "@objective(model,Min, z)"
      ]
    },
    {
      "cell_type": "markdown",
      "metadata": {
        "id": "k7raNa6gyNrB"
      },
      "source": [
        "Declare as restrições do modelo:"
      ]
    },
    {
      "cell_type": "code",
      "execution_count": null,
      "metadata": {
        "colab": {
          "base_uri": "https://localhost:8080/"
        },
        "id": "oLIBGW0eGiPa",
        "outputId": "f8d47945-0200-4004-91ce-0406a0dcb675"
      },
      "outputs": [],
      "source": [
        "# No primeiro período, a produção não leva em conta o estoque do período anterior\n",
        "@constraint(model, first_period_production[i in 1:n_items],\n",
        "    y[i, 1] == demand[i, 1] + storage[i, 1])\n",
        "\n",
        "# Monta a restrição para o i-ésimo produto no j-ésimo período\n",
        "@constraint(model, storage_constraint[i in 1:n_items, j in 2:n_periods],\n",
        "    storage[i, j-1] + y[i, j] == demand[i, j] + storage[i, j])\n",
        "\n",
        "# Não deve sobrar nada no estoque ao fim dos períodos\n",
        "@constraint(model, final_storage_empty[i in 1:n_items],\n",
        "    storage[i, n_periods] == 0)\n",
        "\n",
        "# Garante que x[i, j] seja 1 caso algo seja produzido naquele período\n",
        "@constraint(model, production_indicator[i in 1:n_items, j in 1:n_periods],\n",
        "    y[i, j] <= 800000 * x[i, j])\n",
        "\n",
        "# Garante que não exceda o tempo limite\n",
        "@constraint(model, time_limit_constraint[j in 1:n_periods],\n",
        "    capacity[j] >= sum(setup_time[i] * x[i, j] + perunit_time[i] * y[i, j] for i in 1:n_items))\n"
      ]
    },
    {
      "cell_type": "markdown",
      "metadata": {
        "id": "fHY0RbixySil"
      },
      "source": [
        "Imprima detalhes do modelo:"
      ]
    },
    {
      "cell_type": "code",
      "execution_count": null,
      "metadata": {
        "id": "XE4tV0FGyGSP"
      },
      "outputs": [],
      "source": [
        "print(model)"
      ]
    },
    {
      "cell_type": "markdown",
      "metadata": {
        "id": "BSDcZPekyVjc"
      },
      "source": [
        "Otimize o modelo:"
      ]
    },
    {
      "cell_type": "code",
      "execution_count": null,
      "metadata": {
        "colab": {
          "base_uri": "https://localhost:8080/"
        },
        "id": "oJLTPFpNyFwm",
        "outputId": "3099b0aa-e1e6-43b6-dd4a-2e372bb6f8ff"
      },
      "outputs": [],
      "source": [
        "JuMP.optimize!(model)"
      ]
    },
    {
      "cell_type": "markdown",
      "metadata": {
        "id": "5vUyNikSyYRT"
      },
      "source": [
        "Verifique os resultados:"
      ]
    },
    {
      "cell_type": "code",
      "execution_count": null,
      "metadata": {
        "colab": {
          "base_uri": "https://localhost:8080/"
        },
        "id": "SMgF11MUyBiP",
        "outputId": "1d887844-322f-4f2b-a1cf-0639b2f64d25"
      },
      "outputs": [],
      "source": [
        "for i in 1:n_items\n",
        "  for j in 1:n_periods\n",
        "    if value(y[i,j])> 0.01\n",
        "      println(\"y\",i,\" \",j,\" \",value(y[i,j]))\n",
        "    end\n",
        "  end\n",
        "end"
      ]
    },
    {
      "cell_type": "markdown",
      "metadata": {
        "id": "9wTNSMNAwxFG"
      },
      "source": [
        "---\n",
        "\n",
        "[Fernando Schettini](https://linktr.ee/fernandoschett) <br/>\n",
        "Inter at the Supercomputing Center for Industrial Innovation SENAI-CIMATEC [CS2I](https://www.senaicimatec.com.br/).<br/>\n",
        "[João Bernardino]() <br/>\n",
        "Computer Science Student at UFBA.<br/>"
      ]
    }
  ],
  "metadata": {
    "colab": {
      "provenance": []
    },
    "kernelspec": {
      "display_name": "julia 1.6.7",
      "name": "julia"
    }
  },
  "nbformat": 4,
  "nbformat_minor": 0
}

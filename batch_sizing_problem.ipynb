{
  "cells": [
    {
      "cell_type": "markdown",
      "metadata": {
        "id": "ffosuXgW4yz2"
      },
      "source": [
        "# Batch sizing enabled with multiple products and setup times"
      ]
    },
    {
      "cell_type": "markdown",
      "metadata": {
        "id": "-NlJtqql5XjZ"
      },
      "source": [
        "### Objetivos:\n",
        "\n",
        "- **Modelar** soluções para o problema de programação linear para _BS_.\n",
        "- **Implementar** a solução do problema em Julia."
      ]
    },
    {
      "cell_type": "markdown",
      "metadata": {
        "id": "wyRSWhwa6T3n"
      },
      "source": [
        "O desafio do planejamento de produção de múltiplos itens em empresas que fabricam uma variedade de produtos é otimizar os recursos para maximizar os lucros ou minimizar os custos. Isso requer que os alunos formalizem, formulem e implementem uma solução em código. O problema envolve produtos com custos fixos, custos variáveis, custos de estoque, tempos de setup e tempos de produção, além de restrições de tempo de produção por período.\n",
        "\n",
        "Com isso deseja-se determinar o planejamento de produção de múltiplos itens em um horizonte de planejamento de _T_ períodos:\n",
        "\n",
        "- A produção de cada produto em um determinado período incorre um custo fixo que independe da quantidade e um custo por quantidade produzida;\n",
        "- Há custos de estoque para cada produto por quantidade em inventário;\n",
        "- Há um tempo gasto para o setup de cada produto bem como um tempo por unidade produzida do produto;\n",
        "- Há um limite no tempo total utilizado na produção em cada período.\n",
        "\n",
        "O programa solução calculará a quantidade a ser produzida de cada produto em cada período, com o objetivo de minimizar os custos totais, respeitando todas as restrições. Isso requer a aplicação de conhecimentos em otimização e programação linear.\n",
        "\n",
        "Fique a vontade para checar os [rascunhos](https://www.canva.com/design/DAFvpFclQdA/YVYGJANahDe6_JfbGyDtPA/edit?utm_content=DAFvpFclQdA&utm_campaign=designshare&utm_medium=link2&utm_source=sharebutton) escritos durante a modelagem do problema original."
      ]
    },
    {
      "cell_type": "markdown",
      "metadata": {
        "id": "Hr3whgxT757J"
      },
      "source": [
        "## Variáveis do problema:\n",
        "\n",
        "- Descreve a quantidade **produzida** de um item _j_ no dia _i_:\n",
        "$$qntprod_{item_jdia_i} \\in \\mathbb{N}$$\n",
        "\n",
        "- Descreve a quantidade **estocada** de um item _j_ no dia _i_:\n",
        "$$qntstocada_{item _jdia_i}\\in \\mathbb{N}$$\n",
        "\n",
        "- Indica se ouve ou não **produção** de um item _j_ no dia _i_:\n",
        "$$houveprod_{item _jdia_i} \\in \\{0,1\\}$$"
      ]
    },
    {
      "cell_type": "markdown",
      "metadata": {
        "id": "HXW_iv_TsgHl"
      },
      "source": [
        "## Função Objetivo:\n",
        "\n",
        "O objetivo do problema é reduzir o custo total da operação com base na caracteristicas do problema. Desta forma, definimos a função objetivo:"
      ]
    },
    {
      "cell_type": "markdown",
      "metadata": {
        "id": "JNMDZx9Znym2"
      },
      "source": [
        "\\begin{align*}\n",
        "custototal(args[]) = \\min \\{\\sum_{j=1}^{itens} \\sum_{i=1}^{períodos} custoprod_{item _jdia_i}.qntprod_{item_jdia_i} + qntstocada_{item _jdia_i}.custostoque_{item_jdia_i} + custosetup_{item _jdia_i}*houveprod_{item _jdia_i}\\}\n",
        "\\end{align*}"
      ]
    },
    {
      "cell_type": "markdown",
      "metadata": {
        "id": "fIkEdd5Nsc53"
      },
      "source": [
        "A fórmula leva em consideração o custo de produção para cada item produzido, a custo de armazenamento de cada produto e o custo de setup se houve produção no dia para cada combinação de _item_ ( $j$ ) e _período_ ( $i$ ), para que cada item diferente em cada período seja considerada em suas especificidades. Por isso, os argumentos _args_ da função são descritos por:"
      ]
    },
    {
      "cell_type": "markdown",
      "metadata": {
        "id": "ksJUo1a5vt7i"
      },
      "source": [
        "\\begin{align*}\n",
        "args[] = [demanda[itens][periodos], custosetup[itens][periodos], custoprod[itens][periodos], custostoque[itens][periodos], tempoprod[itens], temposetup[itens], tempomax[periodos]]  \n",
        "\\end{align*}"
      ]
    },
    {
      "cell_type": "markdown",
      "metadata": {
        "id": "rnz28dv7tmbq"
      },
      "source": [
        "## Restrições:\n",
        "\n",
        "Para garantir que as condições sejam satisfeitas, foram modeladas <strong>restrições</strong>. Para assegurar que o tempo de produção não seja superior ao tempo máximo daquele período, estabeleceu-se a seguinte restrição:"
      ]
    },
    {
      "cell_type": "markdown",
      "metadata": {
        "id": "dkdSYp8It05W"
      },
      "source": [
        "\\begin{align*}\n",
        "tempomax_{dia_i} \\geq \\sum_{j=1}^{itens} tempoprod_{item_j}.qntprod_{item_jdia_i} + \\sum_{j=1}^{itens} custosetup_{dia_i}.houveprod_{item _jdia_i}\n",
        "\\end{align*}"
      ]
    },
    {
      "cell_type": "markdown",
      "metadata": {
        "id": "urH3NLwCzYtu"
      },
      "source": [
        "Para garantir que a demanda de cada dia seja cumprida, bem como para manter a relação entre o armazenamento de um período para outro e a demanda do dia, foi modelada as seguintes restrições:"
      ]
    },
    {
      "cell_type": "markdown",
      "metadata": {
        "id": "KgjLiFMT1Nyb"
      },
      "source": [
        "\\begin{align*}\n",
        "qntstocada_{item _jdia_1} = qntprod_{item_jdia_1} - demanda_{item_jdia_1}\n",
        "\\end{align*}"
      ]
    },
    {
      "cell_type": "markdown",
      "metadata": {
        "id": "lqnzviCJ0cRM"
      },
      "source": [
        "\\begin{align*}\n",
        "qntstocada_{item _jdia_i} = qntprod_{item_jdia_i} - demanda_{item_jdia_i} + qntstocada_{item _jdia_i-1}  \\forall i > 1\n",
        "\\end{align*}"
      ]
    },
    {
      "cell_type": "markdown",
      "metadata": {
        "id": "v8d6ODoC2XuT"
      },
      "source": [
        "Por último, para garantir que o solver tenha que calcular os custos de configuração do item nos dias em que haja produção, se houver produção no dia, a variável _houveprod_ deve ser igual a 1. Para isso, utilizamos a seguinte restrição:"
      ]
    },
    {
      "cell_type": "markdown",
      "metadata": {
        "id": "10ZIbFeC1-fg"
      },
      "source": [
        "\\begin{align*}\n",
        "qntprod_{item_jdia_i} \\geq \\sum_{i=1}^{períodos} demanda_{item_jdia_i}.houveprod_{item _jdia_i}\n",
        "\\end{align*}\n"
      ]
    },
    {
      "cell_type": "markdown",
      "metadata": {
        "id": "bnls-9Vj4E9G"
      },
      "source": [
        "## Implementação em Julia:"
      ]
    },
    {
      "cell_type": "markdown",
      "metadata": {
        "id": "CKVP8iCgye6U"
      },
      "source": [
        "Prepare o ambiente de execução:"
      ]
    },
    {
      "cell_type": "code",
      "execution_count": null,
      "metadata": {
        "colab": {
          "base_uri": "https://localhost:8080/"
        },
        "id": "1ZSlsX38GndI",
        "outputId": "e1b2eb68-a175-4711-ceb1-3f84a40f09d6"
      },
      "outputs": [
        {
          "name": "stdout",
          "output_type": "stream",
          "text": [
            "Installing Julia 1.6.7 on the current Colab Runtime...\n",
            "2023-09-28 14:17:57 URL:https://storage.googleapis.com/julialang2/bin/linux/x64/1.6/julia-1.6.7-linux-x86_64.tar.gz [114281842/114281842] -> \"/tmp/julia.tar.gz\" [1]\n",
            "Installing Julia package IJulia...\n",
            "Installing Julia package BenchmarkTools...\n",
            "Installing IJulia kernel...\n",
            "\u001b[36m\u001b[1m[ \u001b[22m\u001b[39m\u001b[36m\u001b[1mInfo: \u001b[22m\u001b[39mInstalling julia kernelspec in /root/.local/share/jupyter/kernels/julia-1.6\n",
            "\n",
            "Julia julia version 1.6.7 instalado com sucesso!\n",
            "Recarregue esta página (pressione Ctrl+R, ⌘+R ou a tecla F5) e depois\n",
            "vá para a seção 'Verificação da Instalação'.\n"
          ]
        },
        {
          "data": {
            "text/plain": []
          },
          "execution_count": 5,
          "metadata": {},
          "output_type": "execute_result"
        }
      ],
      "source": [
        "%%shell\n",
        "set -e\n",
        "\n",
        "#---------------------------------------------------#\n",
        "JULIA_VERSION=\"1.6.7\" # any version ≥ 0.7.0\n",
        "JULIA_PACKAGES=\"IJulia BenchmarkTools\"\n",
        "JULIA_PACKAGES_IF_GPU=\"CUDA\" # or CuArrays for older Julia versions\n",
        "JULIA_NUM_THREADS=2\n",
        "#---------------------------------------------------#\n",
        "\n",
        "if [ -z `which julia` ]; then\n",
        "  # Install Julia\n",
        "  JULIA_VER=`cut -d '.' -f -2 <<< \"$JULIA_VERSION\"`\n",
        "  echo \"Installing Julia $JULIA_VERSION on the current Colab Runtime...\"\n",
        "  BASE_URL=\"https://julialang-s3.julialang.org/bin/linux/x64\"\n",
        "  URL=\"$BASE_URL/$JULIA_VER/julia-$JULIA_VERSION-linux-x86_64.tar.gz\"\n",
        "  wget -nv $URL -O /tmp/julia.tar.gz # -nv means \"not verbose\"\n",
        "  tar -x -f /tmp/julia.tar.gz -C /usr/local --strip-components 1\n",
        "  rm /tmp/julia.tar.gz\n",
        "\n",
        "  # Install Packages\n",
        "  nvidia-smi -L &> /dev/null && export GPU=1 || export GPU=0\n",
        "  if [ $GPU -eq 1 ]; then\n",
        "    JULIA_PACKAGES=\"$JULIA_PACKAGES $JULIA_PACKAGES_IF_GPU\"\n",
        "  fi\n",
        "  for PKG in `echo $JULIA_PACKAGES`; do\n",
        "    echo \"Installing Julia package $PKG...\"\n",
        "    julia -e 'using Pkg; pkg\"add '$PKG'; precompile;\"' &> /dev/null\n",
        "  done\n",
        "\n",
        "  # Install kernel and rename it to \"julia\"\n",
        "  echo \"Installing IJulia kernel...\"\n",
        "  julia -e 'using IJulia; IJulia.installkernel(\"julia\", env=Dict(\n",
        "      \"JULIA_NUM_THREADS\"=>\"'\"$JULIA_NUM_THREADS\"'\"))'\n",
        "  KERNEL_DIR=`julia -e \"using IJulia; print(IJulia.kerneldir())\"`\n",
        "  KERNEL_NAME=`ls -d \"$KERNEL_DIR\"/julia*`\n",
        "  mv -f $KERNEL_NAME \"$KERNEL_DIR\"/julia\n",
        "\n",
        "  echo ''\n",
        "  echo \"Julia `julia -v` instalado com sucesso!\"\n",
        "  echo \"vá para a seção 'Verificação da Instalação'.\"\n",
        "fi"
      ]
    },
    {
      "cell_type": "markdown",
      "metadata": {
        "id": "cCg4r7VkxcuB"
      },
      "source": [
        "Importe os pacotes do Solver de problemas lineares:"
      ]
    },
    {
      "cell_type": "code",
      "execution_count": null,
      "metadata": {
        "colab": {
          "base_uri": "https://localhost:8080/"
        },
        "id": "BgS5IZT_GnLL",
        "outputId": "333d0931-dc93-40b0-89cf-37cf1c78e0a0"
      },
      "outputs": [
        {
          "name": "stderr",
          "output_type": "stream",
          "text": [
            "\u001b[32m\u001b[1m    Updating\u001b[22m\u001b[39m registry at `~/.julia/registries/General`\n",
            "\u001b[32m\u001b[1m   Resolving\u001b[22m\u001b[39m package versions...\n",
            "\u001b[32m\u001b[1m   Installed\u001b[22m\u001b[39m Bzip2_jll ──────────── v1.0.8+0\n",
            "\u001b[32m\u001b[1m   Installed\u001b[22m\u001b[39m DiffRules ──────────── v1.15.1\n",
            "\u001b[32m\u001b[1m   Installed\u001b[22m\u001b[39m CodecZlib ──────────── v0.7.2\n",
            "\u001b[32m\u001b[1m   Installed\u001b[22m\u001b[39m LogExpFunctions ────── v0.3.26\n",
            "\u001b[32m\u001b[1m   Installed\u001b[22m\u001b[39m DataStructures ─────── v0.18.15\n",
            "\u001b[32m\u001b[1m   Installed\u001b[22m\u001b[39m MacroTools ─────────── v0.5.11\n",
            "\u001b[32m\u001b[1m   Installed\u001b[22m\u001b[39m JuMP ───────────────── v1.15.1\n",
            "\u001b[32m\u001b[1m   Installed\u001b[22m\u001b[39m InverseFunctions ───── v0.1.12\n",
            "\u001b[32m\u001b[1m   Installed\u001b[22m\u001b[39m CommonSubexpressions ─ v0.3.0\n",
            "\u001b[32m\u001b[1m   Installed\u001b[22m\u001b[39m ChangesOfVariables ─── v0.1.8\n",
            "\u001b[32m\u001b[1m   Installed\u001b[22m\u001b[39m SnoopPrecompile ────── v1.0.3\n",
            "\u001b[32m\u001b[1m   Installed\u001b[22m\u001b[39m MutableArithmetics ─── v1.3.3\n",
            "\u001b[32m\u001b[1m   Installed\u001b[22m\u001b[39m ChainRulesCore ─────── v1.16.0\n",
            "\u001b[32m\u001b[1m   Installed\u001b[22m\u001b[39m ForwardDiff ────────── v0.10.36\n",
            "\u001b[32m\u001b[1m   Installed\u001b[22m\u001b[39m OpenSpecFun_jll ────── v0.5.5+0\n",
            "\u001b[32m\u001b[1m   Installed\u001b[22m\u001b[39m Compat ─────────────── v4.10.0\n",
            "\u001b[32m\u001b[1m   Installed\u001b[22m\u001b[39m IrrationalConstants ── v0.2.2\n",
            "\u001b[32m\u001b[1m   Installed\u001b[22m\u001b[39m OrderedCollections ─── v1.6.2\n",
            "\u001b[32m\u001b[1m   Installed\u001b[22m\u001b[39m DiffResults ────────── v1.1.0\n",
            "\u001b[32m\u001b[1m   Installed\u001b[22m\u001b[39m TranscodingStreams ─── v0.9.13\n",
            "\u001b[32m\u001b[1m   Installed\u001b[22m\u001b[39m SpecialFunctions ───── v2.3.1\n",
            "\u001b[32m\u001b[1m   Installed\u001b[22m\u001b[39m StaticArrays ───────── v1.6.4\n",
            "\u001b[32m\u001b[1m   Installed\u001b[22m\u001b[39m CodecBzip2 ─────────── v0.8.0\n",
            "\u001b[32m\u001b[1m   Installed\u001b[22m\u001b[39m NaNMath ────────────── v1.0.2\n",
            "\u001b[32m\u001b[1m   Installed\u001b[22m\u001b[39m StaticArraysCore ───── v1.4.2\n",
            "\u001b[32m\u001b[1m   Installed\u001b[22m\u001b[39m DocStringExtensions ── v0.9.3\n",
            "\u001b[32m\u001b[1m   Installed\u001b[22m\u001b[39m MathOptInterface ───── v1.20.1\n",
            "\u001b[32m\u001b[1m    Updating\u001b[22m\u001b[39m `~/.julia/environments/v1.6/Project.toml`\n",
            " \u001b[90m [4076af6c] \u001b[39m\u001b[92m+ JuMP v1.15.1\u001b[39m\n",
            "\u001b[32m\u001b[1m    Updating\u001b[22m\u001b[39m `~/.julia/environments/v1.6/Manifest.toml`\n",
            " \u001b[90m [d360d2e6] \u001b[39m\u001b[92m+ ChainRulesCore v1.16.0\u001b[39m\n",
            " \u001b[90m [9e997f8a] \u001b[39m\u001b[92m+ ChangesOfVariables v0.1.8\u001b[39m\n",
            " \u001b[90m [523fee87] \u001b[39m\u001b[92m+ CodecBzip2 v0.8.0\u001b[39m\n",
            " \u001b[90m [944b1d66] \u001b[39m\u001b[92m+ CodecZlib v0.7.2\u001b[39m\n",
            " \u001b[90m [bbf7d656] \u001b[39m\u001b[92m+ CommonSubexpressions v0.3.0\u001b[39m\n",
            " \u001b[90m [34da2185] \u001b[39m\u001b[92m+ Compat v4.10.0\u001b[39m\n",
            " \u001b[90m [864edb3b] \u001b[39m\u001b[92m+ DataStructures v0.18.15\u001b[39m\n",
            " \u001b[90m [163ba53b] \u001b[39m\u001b[92m+ DiffResults v1.1.0\u001b[39m\n",
            " \u001b[90m [b552c78f] \u001b[39m\u001b[92m+ DiffRules v1.15.1\u001b[39m\n",
            " \u001b[90m [ffbed154] \u001b[39m\u001b[92m+ DocStringExtensions v0.9.3\u001b[39m\n",
            " \u001b[90m [f6369f11] \u001b[39m\u001b[92m+ ForwardDiff v0.10.36\u001b[39m\n",
            " \u001b[90m [3587e190] \u001b[39m\u001b[92m+ InverseFunctions v0.1.12\u001b[39m\n",
            " \u001b[90m [92d709cd] \u001b[39m\u001b[92m+ IrrationalConstants v0.2.2\u001b[39m\n",
            " \u001b[90m [4076af6c] \u001b[39m\u001b[92m+ JuMP v1.15.1\u001b[39m\n",
            " \u001b[90m [2ab3a3ac] \u001b[39m\u001b[92m+ LogExpFunctions v0.3.26\u001b[39m\n",
            " \u001b[90m [1914dd2f] \u001b[39m\u001b[92m+ MacroTools v0.5.11\u001b[39m\n",
            " \u001b[90m [b8f27783] \u001b[39m\u001b[92m+ MathOptInterface v1.20.1\u001b[39m\n",
            " \u001b[90m [d8a4904e] \u001b[39m\u001b[92m+ MutableArithmetics v1.3.3\u001b[39m\n",
            " \u001b[90m [77ba4419] \u001b[39m\u001b[92m+ NaNMath v1.0.2\u001b[39m\n",
            " \u001b[90m [bac558e1] \u001b[39m\u001b[92m+ OrderedCollections v1.6.2\u001b[39m\n",
            " \u001b[90m [66db9d55] \u001b[39m\u001b[92m+ SnoopPrecompile v1.0.3\u001b[39m\n",
            " \u001b[90m [276daf66] \u001b[39m\u001b[92m+ SpecialFunctions v2.3.1\u001b[39m\n",
            " \u001b[90m [90137ffa] \u001b[39m\u001b[92m+ StaticArrays v1.6.4\u001b[39m\n",
            " \u001b[90m [1e83bf80] \u001b[39m\u001b[92m+ StaticArraysCore v1.4.2\u001b[39m\n",
            " \u001b[90m [3bb67fe8] \u001b[39m\u001b[92m+ TranscodingStreams v0.9.13\u001b[39m\n",
            " \u001b[90m [6e34b625] \u001b[39m\u001b[92m+ Bzip2_jll v1.0.8+0\u001b[39m\n",
            " \u001b[90m [efe28fd5] \u001b[39m\u001b[92m+ OpenSpecFun_jll v0.5.5+0\u001b[39m\n",
            " \u001b[90m [e66e0078] \u001b[39m\u001b[92m+ CompilerSupportLibraries_jll\u001b[39m\n",
            " \u001b[90m [05823500] \u001b[39m\u001b[92m+ OpenLibm_jll\u001b[39m\n",
            "\u001b[32m\u001b[1mPrecompiling\u001b[22m\u001b[39m project...\n",
            "\u001b[32m  ✓ \u001b[39m\u001b[90mCompilerSupportLibraries_jll\u001b[39m\n",
            "\u001b[32m  ✓ \u001b[39m\u001b[90mInverseFunctions\u001b[39m\n",
            "\u001b[32m  ✓ \u001b[39m\u001b[90mOrderedCollections\u001b[39m\n",
            "\u001b[32m  ✓ \u001b[39m\u001b[90mIrrationalConstants\u001b[39m\n",
            "\u001b[32m  ✓ \u001b[39m\u001b[90mCompat\u001b[39m\n",
            "\u001b[32m  ✓ \u001b[39m\u001b[90mOpenLibm_jll\u001b[39m\n",
            "\u001b[32m  ✓ \u001b[39m\u001b[90mMacroTools\u001b[39m\n",
            "\u001b[32m  ✓ \u001b[39m\u001b[90mTranscodingStreams\u001b[39m\n",
            "\u001b[32m  ✓ \u001b[39m\u001b[90mStaticArraysCore\u001b[39m\n",
            "\u001b[32m  ✓ \u001b[39m\u001b[90mDocStringExtensions\u001b[39m\n",
            "\u001b[32m  ✓ \u001b[39m\u001b[90mSnoopPrecompile\u001b[39m\n",
            "\u001b[32m  ✓ \u001b[39m\u001b[90mBzip2_jll\u001b[39m\n",
            "\u001b[32m  ✓ \u001b[39m\u001b[90mOpenSpecFun_jll\u001b[39m\n",
            "\u001b[32m  ✓ \u001b[39m\u001b[90mChangesOfVariables\u001b[39m\n",
            "\u001b[32m  ✓ \u001b[39m\u001b[90mChainRulesCore\u001b[39m\n",
            "\u001b[32m  ✓ \u001b[39m\u001b[90mNaNMath\u001b[39m\n",
            "\u001b[32m  ✓ \u001b[39m\u001b[90mDataStructures\u001b[39m\n",
            "\u001b[32m  ✓ \u001b[39m\u001b[90mCodecZlib\u001b[39m\n",
            "\u001b[32m  ✓ \u001b[39m\u001b[90mCommonSubexpressions\u001b[39m\n",
            "\u001b[32m  ✓ \u001b[39m\u001b[90mMutableArithmetics\u001b[39m\n",
            "\u001b[32m  ✓ \u001b[39m\u001b[90mDiffResults\u001b[39m\n",
            "\u001b[32m  ✓ \u001b[39m\u001b[90mCodecBzip2\u001b[39m\n",
            "\u001b[32m  ✓ \u001b[39m\u001b[90mLogExpFunctions\u001b[39m\n",
            "\u001b[32m  ✓ \u001b[39m\u001b[90mSpecialFunctions\u001b[39m\n",
            "\u001b[32m  ✓ \u001b[39m\u001b[90mStaticArrays\u001b[39m\n",
            "\u001b[32m  ✓ \u001b[39m\u001b[90mDiffRules\u001b[39m\n",
            "\u001b[32m  ✓ \u001b[39m\u001b[90mForwardDiff\u001b[39m\n",
            "\u001b[32m  ✓ \u001b[39m\u001b[90mMathOptInterface\u001b[39m\n",
            "\u001b[32m  ✓ \u001b[39mJuMP\n",
            "  29 dependencies successfully precompiled in 163 seconds (17 already precompiled)\n",
            "\u001b[32m\u001b[1m   Resolving\u001b[22m\u001b[39m package versions...\n",
            "\u001b[32m\u001b[1m   Installed\u001b[22m\u001b[39m Osi_jll ──────── v0.10800.700+0\n",
            "\u001b[32m\u001b[1m   Installed\u001b[22m\u001b[39m CoinUtils_jll ── v200.1100.600+0\n",
            "\u001b[32m\u001b[1m   Installed\u001b[22m\u001b[39m Cgl_jll ──────── v0.6000.300+0\n",
            "\u001b[32m\u001b[1m   Installed\u001b[22m\u001b[39m MUMPS_seq_jll ── v5.4.1+0\n",
            "\u001b[32m\u001b[1m   Installed\u001b[22m\u001b[39m OpenBLAS32_jll ─ v0.3.12+1\n",
            "\u001b[32m\u001b[1m   Installed\u001b[22m\u001b[39m Cbc ──────────── v1.2.0\n",
            "\u001b[32m\u001b[1m   Installed\u001b[22m\u001b[39m Cbc_jll ──────── v200.1000.501+0\n",
            "\u001b[32m\u001b[1m   Installed\u001b[22m\u001b[39m ASL_jll ──────── v0.1.3+0\n",
            "\u001b[32m\u001b[1m   Installed\u001b[22m\u001b[39m METIS_jll ────── v5.1.1+0\n",
            "\u001b[32m\u001b[1m   Installed\u001b[22m\u001b[39m Clp_jll ──────── v100.1700.601+0\n",
            "\u001b[32m\u001b[1m    Updating\u001b[22m\u001b[39m `~/.julia/environments/v1.6/Project.toml`\n",
            " \u001b[90m [9961bab8] \u001b[39m\u001b[92m+ Cbc v1.2.0\u001b[39m\n",
            "\u001b[32m\u001b[1m    Updating\u001b[22m\u001b[39m `~/.julia/environments/v1.6/Manifest.toml`\n",
            " \u001b[90m [9961bab8] \u001b[39m\u001b[92m+ Cbc v1.2.0\u001b[39m\n",
            " \u001b[90m [ae81ac8f] \u001b[39m\u001b[92m+ ASL_jll v0.1.3+0\u001b[39m\n",
            " \u001b[90m [38041ee0] \u001b[39m\u001b[92m+ Cbc_jll v200.1000.501+0\u001b[39m\n",
            " \u001b[90m [3830e938] \u001b[39m\u001b[92m+ Cgl_jll v0.6000.300+0\u001b[39m\n",
            " \u001b[90m [06985876] \u001b[39m\u001b[92m+ Clp_jll v100.1700.601+0\u001b[39m\n",
            " \u001b[90m [be027038] \u001b[39m\u001b[92m+ CoinUtils_jll v200.1100.600+0\u001b[39m\n",
            " \u001b[90m [d00139f3] \u001b[39m\u001b[92m+ METIS_jll v5.1.1+0\u001b[39m\n",
            " \u001b[90m [d7ed1dd3] \u001b[39m\u001b[92m+ MUMPS_seq_jll v5.4.1+0\u001b[39m\n",
            " \u001b[90m [656ef2d0] \u001b[39m\u001b[92m+ OpenBLAS32_jll v0.3.12+1\u001b[39m\n",
            " \u001b[90m [7da25872] \u001b[39m\u001b[92m+ Osi_jll v0.10800.700+0\u001b[39m\n",
            "\u001b[32m\u001b[1mPrecompiling\u001b[22m\u001b[39m project...\n",
            "\u001b[32m  ✓ \u001b[39m\u001b[90mMETIS_jll\u001b[39m\n",
            "\u001b[32m  ✓ \u001b[39m\u001b[90mOpenBLAS32_jll\u001b[39m\n",
            "\u001b[32m  ✓ \u001b[39m\u001b[90mASL_jll\u001b[39m\n",
            "\u001b[32m  ✓ \u001b[39m\u001b[90mMUMPS_seq_jll\u001b[39m\n",
            "\u001b[32m  ✓ \u001b[39m\u001b[90mCoinUtils_jll\u001b[39m\n",
            "\u001b[32m  ✓ \u001b[39m\u001b[90mOsi_jll\u001b[39m\n",
            "\u001b[32m  ✓ \u001b[39m\u001b[90mClp_jll\u001b[39m\n",
            "\u001b[32m  ✓ \u001b[39m\u001b[90mCgl_jll\u001b[39m\n",
            "\u001b[32m  ✓ \u001b[39m\u001b[90mCbc_jll\u001b[39m\n",
            "\u001b[32m  ✓ \u001b[39mCbc\n",
            "  10 dependencies successfully precompiled in 18 seconds (46 already precompiled)\n"
          ]
        }
      ],
      "source": [
        "import Pkg; Pkg.add(\"JuMP\"); Pkg.add(\"Cbc\")"
      ]
    },
    {
      "cell_type": "markdown",
      "metadata": {
        "id": "391Bubv8xiJ4"
      },
      "source": [
        "Declare o modelo, e defina tempo limite para processamento:"
      ]
    },
    {
      "cell_type": "code",
      "execution_count": null,
      "metadata": {
        "id": "povwAi9SxJQ4"
      },
      "outputs": [],
      "source": [
        "using JuMP, Cbc\n",
        "model = Model(Cbc.Optimizer)\n",
        "set_time_limit_sec(model,30)"
      ]
    },
    {
      "cell_type": "markdown",
      "metadata": {
        "id": "wGsMYhnjxohq"
      },
      "source": [
        "Exemplos de entrada:"
      ]
    },
    {
      "cell_type": "code",
      "execution_count": null,
      "metadata": {
        "colab": {
          "base_uri": "https://localhost:8080/"
        },
        "id": "19NLye5ZxOKy",
        "outputId": "211303ac-27b7-418c-825a-f3b14b7853e6"
      },
      "outputs": [
        {
          "data": {
            "text/plain": [
              "7-element Vector{Int64}:\n",
              " 469\n",
              " 469\n",
              " 469\n",
              " 469\n",
              " 469\n",
              " 469\n",
              " 469"
            ]
          },
          "execution_count": 4,
          "metadata": {},
          "output_type": "execute_result"
        }
      ],
      "source": [
        "# Exemplo 1:\n",
        "n_items = 3\n",
        "n_periods = 7\n",
        "demand = [118 85 110 77 92 99 94; 123 0 97 0 78 122 120; 0 85 125 95 117 119 78]\n",
        "setup_cost = [1000.0 800.0 500.0 700.0 100.0 500.0 800.0; 800.0 400.0 800.0 600.0 400.0 600.0 800.0; 200.0 400.0 300.0 600.0 1000.0 1000.0 300.0]\n",
        "perunit_cost = [0.0 0.0 0.0 0.0 0.0 0.0 0.0; 0.0 0.0 0.0 0.0 0.0 0.0 0.0; 0.0 0.0 0.0 0.0 0.0 0.0 0.0]\n",
        "storage_cost = [4.0 4.0 1.0 4.0 2.0 4.0 4.0; 2.0 5.0 2.0 3.0 2.0 4.0 4.0; 4.0 5.0 3.0 1.0 4.0 3.0 5.0]\n",
        "setup_time = [40.0, 40.0, 10.0]\n",
        "perunit_time = [1.0, 1.0, 1.0]\n",
        "capacity = [469, 469, 469, 469, 469, 469, 469]"
      ]
    },
    {
      "cell_type": "code",
      "execution_count": null,
      "metadata": {
        "id": "CSCDKTrUxZpr"
      },
      "outputs": [],
      "source": [
        "# Exemplo 2:\n",
        "n_items = 10\n",
        "n_periods = 15\n",
        "demand = [0 81 94 0 99 123 91 118 123 114 111 119 77 81 113; 86 0 0 97 77 121 115 115 101 86 98 125 122 94 114; 0 76 113 93 94 103 113 116 86 98 112 105 117 125 94; 86 123 112 97 80 116 111 98 94 116 91 80 107 79 108; 97 0 120 0 123 109 125 89 94 110 90 78 105 92 121; 83 86 0 88 92 123 116 120 101 89 81 111 77 88 79; 76 79 90 88 93 112 123 87 121 77 110 80 93 111 108; 119 92 0 92 117 104 84 123 93 78 98 107 104 107 90; 0 124 78 107 114 90 102 103 109 108 100 122 81 114 83; 97 100 0 85 114 104 109 92 95 87 117 111 94 116 107]\n",
        "setup_cost = [700.0 700.0 400.0 400.0 200.0 100.0 900.0 100.0 100.0 400.0 300.0 500.0 700.0 300.0 300.0; 700.0 200.0 200.0 400.0 500.0 1000.0 100.0 100.0 400.0 200.0 800.0 700.0 500.0 800.0 100.0; 800.0 700.0 700.0 600.0 1000.0 400.0 500.0 600.0 800.0 100.0 500.0 600.0 300.0 1000.0 800.0; 400.0 100.0 400.0 900.0 500.0 500.0 200.0 900.0 100.0 300.0 800.0 700.0 900.0 100.0 500.0; 700.0 800.0 300.0 600.0 700.0 800.0 600.0 100.0 300.0 500.0 800.0 700.0 1000.0 400.0 1000.0; 400.0 600.0 900.0 600.0 100.0 100.0 100.0 100.0 900.0 800.0 600.0 200.0 500.0 1000.0 800.0; 200.0 600.0 200.0 500.0 700.0 300.0 800.0 100.0 300.0 700.0 600.0 800.0 1000.0 600.0 400.0; 700.0 400.0 700.0 1000.0 200.0 700.0 400.0 600.0 500.0 1000.0 400.0 700.0 800.0 800.0 300.0; 600.0 200.0 900.0 300.0 700.0 500.0 200.0 400.0 200.0 1000.0 800.0 700.0 100.0 700.0 800.0; 200.0 100.0 400.0 400.0 700.0 500.0 600.0 900.0 300.0 500.0 800.0 1000.0 300.0 800.0 1000.0]\n",
        "perunit_cost = [0.0 0.0 0.0 0.0 0.0 0.0 0.0 0.0 0.0 0.0 0.0 0.0 0.0 0.0 0.0; 0.0 0.0 0.0 0.0 0.0 0.0 0.0 0.0 0.0 0.0 0.0 0.0 0.0 0.0 0.0; 0.0 0.0 0.0 0.0 0.0 0.0 0.0 0.0 0.0 0.0 0.0 0.0 0.0 0.0 0.0; 0.0 0.0 0.0 0.0 0.0 0.0 0.0 0.0 0.0 0.0 0.0 0.0 0.0 0.0 0.0; 0.0 0.0 0.0 0.0 0.0 0.0 0.0 0.0 0.0 0.0 0.0 0.0 0.0 0.0 0.0; 0.0 0.0 0.0 0.0 0.0 0.0 0.0 0.0 0.0 0.0 0.0 0.0 0.0 0.0 0.0; 0.0 0.0 0.0 0.0 0.0 0.0 0.0 0.0 0.0 0.0 0.0 0.0 0.0 0.0 0.0; 0.0 0.0 0.0 0.0 0.0 0.0 0.0 0.0 0.0 0.0 0.0 0.0 0.0 0.0 0.0; 0.0 0.0 0.0 0.0 0.0 0.0 0.0 0.0 0.0 0.0 0.0 0.0 0.0 0.0 0.0; 0.0 0.0 0.0 0.0 0.0 0.0 0.0 0.0 0.0 0.0 0.0 0.0 0.0 0.0 0.0]\n",
        "storage_cost = [2.0 3.0 5.0 5.0 3.0 3.0 4.0 1.0 1.0 3.0 3.0 5.0 1.0 3.0 1.0; 5.0 2.0 2.0 2.0 1.0 1.0 1.0 2.0 2.0 1.0 4.0 5.0 3.0 4.0 2.0; 3.0 2.0 2.0 3.0 5.0 5.0 2.0 2.0 3.0 5.0 4.0 5.0 2.0 1.0 3.0; 4.0 1.0 4.0 5.0 5.0 5.0 4.0 5.0 3.0 1.0 4.0 3.0 5.0 1.0 2.0; 3.0 2.0 1.0 3.0 2.0 2.0 1.0 3.0 5.0 2.0 5.0 1.0 4.0 5.0 3.0; 1.0 5.0 3.0 4.0 2.0 4.0 1.0 1.0 2.0 4.0 2.0 4.0 4.0 5.0 3.0; 3.0 1.0 2.0 3.0 1.0 3.0 4.0 3.0 5.0 3.0 4.0 3.0 3.0 1.0 3.0; 5.0 5.0 3.0 5.0 2.0 2.0 5.0 3.0 5.0 4.0 5.0 2.0 4.0 2.0 5.0; 1.0 3.0 1.0 2.0 1.0 2.0 4.0 4.0 5.0 5.0 2.0 1.0 1.0 1.0 2.0; 3.0 4.0 2.0 5.0 4.0 2.0 2.0 3.0 1.0 4.0 5.0 4.0 3.0 4.0 4.0]\n",
        "setup_time = [10.0, 40.0, 20.0, 50.0, 10.0, 20.0, 40.0, 50.0, 10.0, 40.0]\n",
        "perunit_time = [1.0, 1.0, 1.0, 1.0, 1.0, 1.0, 1.0, 1.0, 1.0, 1.0]\n",
        "capacity = [1114, 1114, 1114, 1114, 1114, 1114, 1114, 1114, 1114, 1114, 1114, 1114, 1114, 1114, 1114]"
      ]
    },
    {
      "cell_type": "markdown",
      "metadata": {
        "id": "8B6S5Ao6xtmx"
      },
      "source": [
        "Declare as variáveis:"
      ]
    },
    {
      "cell_type": "code",
      "execution_count": null,
      "metadata": {
        "colab": {
          "base_uri": "https://localhost:8080/"
        },
        "id": "EqOKUExexwdR",
        "outputId": "c898cbb4-5fd4-43a9-aa7d-4b13f1293fbb"
      },
      "outputs": [
        {
          "data": {
            "text/plain": [
              "3×7 Matrix{VariableRef}:\n",
              " storage[1,1]  storage[1,2]  storage[1,3]  …  storage[1,6]  storage[1,7]\n",
              " storage[2,1]  storage[2,2]  storage[2,3]     storage[2,6]  storage[2,7]\n",
              " storage[3,1]  storage[3,2]  storage[3,3]     storage[3,6]  storage[3,7]"
            ]
          },
          "execution_count": 5,
          "metadata": {},
          "output_type": "execute_result"
        }
      ],
      "source": [
        "@variable(model,z)\n",
        "@variable(model,x[i in 1:n_items, j in 1:n_periods],Bin)\n",
        "@variable(model,y[i in 1:n_items, j in 1:n_periods] >= 0)\n",
        "@variable(model,storage[i in 1:n_items, j in 1:n_periods] >=0 )"
      ]
    },
    {
      "cell_type": "markdown",
      "metadata": {
        "id": "hEycP9soyKwD"
      },
      "source": [
        "Declare a função objetivo:"
      ]
    },
    {
      "cell_type": "code",
      "execution_count": null,
      "metadata": {
        "colab": {
          "base_uri": "https://localhost:8080/",
          "height": 106
        },
        "id": "lKOCBuVFx8tr",
        "outputId": "b95f62e0-04e4-4816-931c-0d325583f9bc"
      },
      "outputs": [
        {
          "data": {
            "text/latex": [
              "$ 4 storage_{1,1} + 1000 x_{1,1} + 2 storage_{2,1} + 800 x_{2,1} + 4 storage_{3,1} + 200 x_{3,1} + 4 storage_{1,2} + 800 x_{1,2} + 5 storage_{2,2} + 400 x_{2,2} + 5 storage_{3,2} + 400 x_{3,2} + storage_{1,3} + 500 x_{1,3} + 2 storage_{2,3} + 800 x_{2,3} + 3 storage_{3,3} + 300 x_{3,3} + 4 storage_{1,4} + 700 x_{1,4} + 3 storage_{2,4} + 600 x_{2,4} + storage_{3,4} + 600 x_{3,4} + 2 storage_{1,5} + 100 x_{1,5} + 2 storage_{2,5} + 400 x_{2,5} + 4 storage_{3,5} + 1000 x_{3,5} + 4 storage_{1,6} + 500 x_{1,6} + 4 storage_{2,6} + 600 x_{2,6} + 3 storage_{3,6} + 1000 x_{3,6} + 4 storage_{1,7} + 800 x_{1,7} + 4 storage_{2,7} + 800 x_{2,7} + 5 storage_{3,7} + 300 x_{3,7} $"
            ],
            "text/plain": [
              "4 storage[1,1] + 1000 x[1,1] + 2 storage[2,1] + 800 x[2,1] + 4 storage[3,1] + 200 x[3,1] + 4 storage[1,2] + 800 x[1,2] + 5 storage[2,2] + 400 x[2,2] + 5 storage[3,2] + 400 x[3,2] + storage[1,3] + 500 x[1,3] + 2 storage[2,3] + 800 x[2,3] + 3 storage[3,3] + 300 x[3,3] + 4 storage[1,4] + 700 x[1,4] + 3 storage[2,4] + 600 x[2,4] + storage[3,4] + 600 x[3,4] + 2 storage[1,5] + 100 x[1,5] + 2 storage[2,5] + 400 x[2,5] + 4 storage[3,5] + 1000 x[3,5] + 4 storage[1,6] + 500 x[1,6] + 4 storage[2,6] + 600 x[2,6] + 3 storage[3,6] + 1000 x[3,6] + 4 storage[1,7] + 800 x[1,7] + 4 storage[2,7] + 800 x[2,7] + 5 storage[3,7] + 300 x[3,7]"
            ]
          },
          "execution_count": 6,
          "metadata": {},
          "output_type": "execute_result"
        }
      ],
      "source": [
        "z = sum( sum(perunit_cost[i,j]y[i,j] + storage_cost[i,j]storage[i,j] + setup_cost[i,j]x[i,j] for i in 1:n_items) for j in 1:n_periods)\n",
        "@objective(model,Min, z)"
      ]
    },
    {
      "cell_type": "markdown",
      "metadata": {
        "id": "k7raNa6gyNrB"
      },
      "source": [
        "Declare as restrições do modelo:"
      ]
    },
    {
      "cell_type": "code",
      "execution_count": null,
      "metadata": {
        "colab": {
          "base_uri": "https://localhost:8080/"
        },
        "id": "oLIBGW0eGiPa",
        "outputId": "f8d47945-0200-4004-91ce-0406a0dcb675"
      },
      "outputs": [
        {
          "data": {
            "text/plain": [
              "7-element Vector{ConstraintRef{Model, MathOptInterface.ConstraintIndex{MathOptInterface.ScalarAffineFunction{Float64}, MathOptInterface.GreaterThan{Float64}}, ScalarShape}}:\n",
              " time_limit_constraint[1] : -40 x[1,1] - 40 x[2,1] - 10 x[3,1] - y[1,1] - y[2,1] - y[3,1] ≥ -469\n",
              " time_limit_constraint[2] : -40 x[1,2] - 40 x[2,2] - 10 x[3,2] - y[1,2] - y[2,2] - y[3,2] ≥ -469\n",
              " time_limit_constraint[3] : -40 x[1,3] - 40 x[2,3] - 10 x[3,3] - y[1,3] - y[2,3] - y[3,3] ≥ -469\n",
              " time_limit_constraint[4] : -40 x[1,4] - 40 x[2,4] - 10 x[3,4] - y[1,4] - y[2,4] - y[3,4] ≥ -469\n",
              " time_limit_constraint[5] : -40 x[1,5] - 40 x[2,5] - 10 x[3,5] - y[1,5] - y[2,5] - y[3,5] ≥ -469\n",
              " time_limit_constraint[6] : -40 x[1,6] - 40 x[2,6] - 10 x[3,6] - y[1,6] - y[2,6] - y[3,6] ≥ -469\n",
              " time_limit_constraint[7] : -40 x[1,7] - 40 x[2,7] - 10 x[3,7] - y[1,7] - y[2,7] - y[3,7] ≥ -469"
            ]
          },
          "execution_count": 7,
          "metadata": {},
          "output_type": "execute_result"
        }
      ],
      "source": [
        "# No primeiro período, a produção não leva em conta o estoque do período anterior\n",
        "@constraint(model, first_period_production[i in 1:n_items],\n",
        "    y[i, 1] == demand[i, 1] + storage[i, 1])\n",
        "\n",
        "# Monta a restrição para o i-ésimo produto no j-ésimo período\n",
        "@constraint(model, storage_constraint[i in 1:n_items, j in 2:n_periods],\n",
        "    storage[i, j-1] + y[i, j] == demand[i, j] + storage[i, j])\n",
        "\n",
        "# Não deve sobrar nada no estoque ao fim dos períodos\n",
        "@constraint(model, final_storage_empty[i in 1:n_items],\n",
        "    storage[i, n_periods] == 0)\n",
        "\n",
        "# Garante que x[i, j] seja 1 caso algo seja produzido naquele período\n",
        "@constraint(model, production_indicator[i in 1:n_items, j in 1:n_periods],\n",
        "    y[i, j] <= 800000 * x[i, j])\n",
        "\n",
        "# Garante que não exceda o tempo limite\n",
        "@constraint(model, time_limit_constraint[j in 1:n_periods],\n",
        "    capacity[j] >= sum(setup_time[i] * x[i, j] + perunit_time[i] * y[i, j] for i in 1:n_items))\n"
      ]
    },
    {
      "cell_type": "markdown",
      "metadata": {
        "id": "fHY0RbixySil"
      },
      "source": [
        "Imprima detalhes do modelo:"
      ]
    },
    {
      "cell_type": "code",
      "execution_count": null,
      "metadata": {
        "id": "XE4tV0FGyGSP"
      },
      "outputs": [],
      "source": [
        "print(model)"
      ]
    },
    {
      "cell_type": "markdown",
      "metadata": {
        "id": "BSDcZPekyVjc"
      },
      "source": [
        "Otimize o modelo:"
      ]
    },
    {
      "cell_type": "code",
      "execution_count": null,
      "metadata": {
        "colab": {
          "base_uri": "https://localhost:8080/"
        },
        "id": "oJLTPFpNyFwm",
        "outputId": "3099b0aa-e1e6-43b6-dd4a-2e372bb6f8ff"
      },
      "outputs": [
        {
          "name": "stdout",
          "output_type": "stream",
          "text": [
            "Welcome to the CBC MILP Solver \n",
            "Version: 2.10.5 \n",
            "Build Date: Jan  1 1970 \n",
            "\n",
            "command line - Cbc_C_Interface -seconds 30.0 -solve -quit (default strategy 1)\n",
            "seconds was changed from 1e+100 to 30\n",
            "Continuous objective value is 1.49137 - 0.00 seconds\n",
            "Cgl0003I 0 fixed, 0 tightened bounds, 13 strengthened rows, 0 substitutions\n",
            "Cgl0004I processed model has 38 rows, 50 columns (19 integer (19 of which binary)) and 113 elements\n",
            "Cbc0038I Initial state - 9 integers unsatisfied sum - 2.47873\n",
            "Cbc0038I Pass   1: suminf.    1.15630 (4) obj. 8498.26 iterations 13\n",
            "Cbc0038I Solution found of 10387\n",
            "Cbc0038I Relaxing continuous gives 9351\n",
            "Cbc0038I Before mini branch and bound, 10 integers at bound fixed and 16 continuous\n",
            "Cbc0038I Full problem 38 rows 50 columns, reduced to 6 rows 9 columns\n",
            "Cbc0038I Mini branch and bound improved solution from 9351 to 8915 (0.01 seconds)\n",
            "Cbc0038I Round again with cutoff of 8618.4\n",
            "Cbc0038I Pass   2: suminf.    1.15630 (4) obj. 8498.26 iterations 0\n",
            "Cbc0038I Pass   3: suminf.    0.46333 (2) obj. 8618.4 iterations 8\n",
            "Cbc0038I Pass   4: suminf.    0.53157 (3) obj. 8618.4 iterations 6\n",
            "Cbc0038I Pass   5: suminf.    0.25972 (2) obj. 8618.4 iterations 5\n",
            "Cbc0038I Pass   6: suminf.    0.19170 (1) obj. 8618.4 iterations 3\n",
            "Cbc0038I Pass   7: suminf.    0.25972 (2) obj. 8618.4 iterations 2\n",
            "Cbc0038I Pass   8: suminf.    0.37231 (3) obj. 8618.4 iterations 12\n",
            "Cbc0038I Pass   9: suminf.    0.27512 (2) obj. 8618.4 iterations 3\n",
            "Cbc0038I Pass  10: suminf.    0.53157 (3) obj. 8618.4 iterations 4\n",
            "Cbc0038I Pass  11: suminf.    0.25972 (2) obj. 8618.4 iterations 5\n",
            "Cbc0038I Pass  12: suminf.    0.19170 (1) obj. 8618.4 iterations 3\n",
            "Cbc0038I Pass  13: suminf.    0.25972 (2) obj. 8618.4 iterations 2\n",
            "Cbc0038I Pass  14: suminf.    0.17678 (1) obj. 8618.4 iterations 6\n",
            "Cbc0038I Pass  15: suminf.    0.59077 (2) obj. 8618.4 iterations 3\n",
            "Cbc0038I Pass  16: suminf.    0.65972 (2) obj. 8618.4 iterations 1\n",
            "Cbc0038I Pass  17: suminf.    0.93840 (4) obj. 8618.4 iterations 5\n",
            "Cbc0038I Pass  18: suminf.    0.50755 (3) obj. 8618.4 iterations 8\n",
            "Cbc0038I Pass  19: suminf.    0.48674 (3) obj. 8618.4 iterations 3\n",
            "Cbc0038I Pass  20: suminf.    0.48674 (3) obj. 8618.4 iterations 0\n",
            "Cbc0038I Pass  21: suminf.    0.30472 (2) obj. 8618.4 iterations 3\n",
            "Cbc0038I Pass  22: suminf.    0.30472 (2) obj. 8618.4 iterations 0\n",
            "Cbc0038I Pass  23: suminf.    0.33740 (2) obj. 8618.4 iterations 6\n",
            "Cbc0038I Pass  24: suminf.    0.96349 (4) obj. 8618.4 iterations 11\n",
            "Cbc0038I Pass  25: suminf.    0.80512 (3) obj. 8618.4 iterations 1\n",
            "Cbc0038I Pass  26: suminf.    0.61800 (2) obj. 8618.4 iterations 3\n",
            "Cbc0038I Pass  27: suminf.    0.26721 (2) obj. 8618.4 iterations 7\n",
            "Cbc0038I Pass  28: suminf.    0.61800 (2) obj. 8618.4 iterations 1\n",
            "Cbc0038I Pass  29: suminf.    0.60550 (2) obj. 8618.4 iterations 2\n",
            "Cbc0038I Pass  30: suminf.    0.27812 (2) obj. 8618.4 iterations 7\n",
            "Cbc0038I Pass  31: suminf.    0.60550 (2) obj. 8618.4 iterations 1\n",
            "Cbc0038I No solution found this major pass\n",
            "Cbc0038I Before mini branch and bound, 5 integers at bound fixed and 7 continuous\n",
            "Cbc0038I Full problem 38 rows 50 columns, reduced to 25 rows 31 columns\n",
            "Cbc0038I Mini branch and bound improved solution from 8915 to 8321 (0.03 seconds)\n",
            "Cbc0038I Round again with cutoff of 7846.61\n",
            "Cbc0038I Pass  31: suminf.    1.16200 (4) obj. 7846.61 iterations 2\n",
            "Cbc0038I Pass  32: suminf.    0.78520 (4) obj. 7846.61 iterations 9\n",
            "Cbc0038I Pass  33: suminf.    0.64788 (3) obj. 7846.61 iterations 7\n",
            "Cbc0038I Pass  34: suminf.    0.44572 (2) obj. 7846.61 iterations 2\n",
            "Cbc0038I Pass  35: suminf.    0.44572 (2) obj. 7846.61 iterations 0\n",
            "Cbc0038I Pass  36: suminf.    0.45723 (2) obj. 7846.61 iterations 4\n",
            "Cbc0038I Pass  37: suminf.    0.48334 (3) obj. 7846.61 iterations 2\n",
            "Cbc0038I Pass  38: suminf.    0.64788 (3) obj. 7846.61 iterations 4\n",
            "Cbc0038I Pass  39: suminf.    0.64788 (3) obj. 7846.61 iterations 0\n",
            "Cbc0038I Pass  40: suminf.    0.44572 (2) obj. 7846.61 iterations 2\n",
            "Cbc0038I Pass  41: suminf.    0.44572 (2) obj. 7846.61 iterations 0\n",
            "Cbc0038I Pass  42: suminf.    0.45723 (2) obj. 7846.61 iterations 4\n",
            "Cbc0038I Pass  43: suminf.    1.35735 (4) obj. 7846.61 iterations 12\n",
            "Cbc0038I Pass  44: suminf.    0.90468 (3) obj. 7846.61 iterations 4\n",
            "Cbc0038I Pass  45: suminf.    1.07574 (4) obj. 7846.61 iterations 9\n",
            "Cbc0038I Pass  46: suminf.    1.07574 (4) obj. 7846.61 iterations 0\n",
            "Cbc0038I Pass  47: suminf.    0.72612 (3) obj. 7846.61 iterations 4\n",
            "Cbc0038I Pass  48: suminf.    0.48240 (3) obj. 7846.61 iterations 3\n",
            "Cbc0038I Pass  49: suminf.    1.16160 (4) obj. 7846.61 iterations 5\n",
            "Cbc0038I Pass  50: suminf.    1.46742 (5) obj. 7846.61 iterations 4\n",
            "Cbc0038I Pass  51: suminf.    1.46742 (5) obj. 7846.61 iterations 0\n",
            "Cbc0038I Pass  52: suminf.    1.37655 (5) obj. 7846.61 iterations 5\n",
            "Cbc0038I Pass  53: suminf.    0.81091 (3) obj. 7846.61 iterations 6\n",
            "Cbc0038I Pass  54: suminf.    0.85459 (4) obj. 7846.61 iterations 3\n",
            "Cbc0038I Pass  55: suminf.    0.85459 (4) obj. 7846.61 iterations 0\n",
            "Cbc0038I Pass  56: suminf.    1.95789 (8) obj. 7846.61 iterations 10\n",
            "Cbc0038I Pass  57: suminf.    1.92057 (7) obj. 7846.61 iterations 3\n",
            "Cbc0038I Pass  58: suminf.    1.49608 (5) obj. 7846.61 iterations 5\n",
            "Cbc0038I Pass  59: suminf.    0.85199 (4) obj. 7846.61 iterations 4\n",
            "Cbc0038I Pass  60: suminf.    0.54692 (4) obj. 7846.61 iterations 9\n",
            "Cbc0038I No solution found this major pass\n",
            "Cbc0038I Before mini branch and bound, 3 integers at bound fixed and 6 continuous\n",
            "Cbc0038I Full problem 38 rows 50 columns, reduced to 25 rows 31 columns\n",
            "Cbc0038I Mini branch and bound did not improve solution (0.04 seconds)\n",
            "Cbc0038I After 0.04 seconds - Feasibility pump exiting with objective of 8321 - took 0.04 seconds\n",
            "Cbc0012I Integer solution of 8321 found by feasibility pump after 0 iterations and 0 nodes (0.04 seconds)\n",
            "Cbc0038I Full problem 38 rows 50 columns, reduced to 22 rows 27 columns\n",
            "Cbc0012I Integer solution of 8256 found by DiveCoefficient after 107 iterations and 0 nodes (0.07 seconds)\n",
            "Cbc0031I 17 added rows had average density of 11.352941\n",
            "Cbc0013I At root node, 17 cuts changed objective from 5949.0362 to 8255.9994 in 12 passes\n",
            "Cbc0014I Cut generator 0 (Probing) - 20 row cuts average 2.0 elements, 4 column cuts (4 active)  in 0.002 seconds - new frequency is 1\n",
            "Cbc0014I Cut generator 1 (Gomory) - 60 row cuts average 23.6 elements, 0 column cuts (0 active)  in 0.002 seconds - new frequency is 1\n",
            "Cbc0014I Cut generator 2 (Knapsack) - 0 row cuts average 0.0 elements, 0 column cuts (0 active)  in 0.003 seconds - new frequency is -100\n",
            "Cbc0014I Cut generator 3 (Clique) - 0 row cuts average 0.0 elements, 0 column cuts (0 active)  in 0.000 seconds - new frequency is -100\n",
            "Cbc0014I Cut generator 4 (MixedIntegerRounding2) - 17 row cuts average 4.0 elements, 0 column cuts (0 active)  in 0.002 seconds - new frequency is 1\n",
            "Cbc0014I Cut generator 5 (FlowCover) - 7 row cuts average 3.7 elements, 0 column cuts (0 active)  in 0.002 seconds - new frequency is 1\n",
            "Cbc0014I Cut generator 6 (TwoMirCuts) - 41 row cuts average 13.5 elements, 0 column cuts (0 active)  in 0.002 seconds - new frequency is 1\n",
            "Cbc0001I Search completed - best objective 8256, took 112 iterations and 0 nodes (0.07 seconds)\n",
            "Cbc0032I Strong branching done 4 times (14 iterations), fathomed 1 nodes and fixed 0 variables\n",
            "Cbc0035I Maximum depth 0, 2 variables fixed on reduced cost\n",
            "Cuts at root node changed objective from 5949.04 to 8256\n",
            "Probing was tried 12 times and created 24 cuts of which 0 were active after adding rounds of cuts (0.002 seconds)\n",
            "Gomory was tried 12 times and created 60 cuts of which 0 were active after adding rounds of cuts (0.002 seconds)\n",
            "Knapsack was tried 12 times and created 0 cuts of which 0 were active after adding rounds of cuts (0.003 seconds)\n",
            "Clique was tried 12 times and created 0 cuts of which 0 were active after adding rounds of cuts (0.000 seconds)\n",
            "MixedIntegerRounding2 was tried 12 times and created 17 cuts of which 0 were active after adding rounds of cuts (0.002 seconds)\n",
            "FlowCover was tried 12 times and created 7 cuts of which 0 were active after adding rounds of cuts (0.002 seconds)\n",
            "TwoMirCuts was tried 12 times and created 41 cuts of which 0 were active after adding rounds of cuts (0.002 seconds)\n",
            "ZeroHalf was tried 1 times and created 0 cuts of which 0 were active after adding rounds of cuts (0.000 seconds)\n",
            "\n",
            "Result - Optimal solution found\n",
            "\n",
            "Objective value:                8256.00000000\n",
            "Enumerated nodes:               0\n",
            "Total iterations:               112\n",
            "Time (CPU seconds):             0.08\n",
            "Time (Wallclock seconds):       0.06\n",
            "\n",
            "Total time (CPU seconds):       0.08   (Wallclock seconds):       0.07\n",
            "\n"
          ]
        }
      ],
      "source": [
        "JuMP.optimize!(model)"
      ]
    },
    {
      "cell_type": "markdown",
      "metadata": {
        "id": "5vUyNikSyYRT"
      },
      "source": [
        "Verifique os resultados:"
      ]
    },
    {
      "cell_type": "code",
      "execution_count": null,
      "metadata": {
        "colab": {
          "base_uri": "https://localhost:8080/"
        },
        "id": "SMgF11MUyBiP",
        "outputId": "1d887844-322f-4f2b-a1cf-0639b2f64d25"
      },
      "outputs": [
        {
          "name": "stdout",
          "output_type": "stream",
          "text": [
            "y1 1 203.0\n",
            "y1 3 187.00000000000003\n",
            "y1 5 284.99999999999994\n",
            "y2 1 122.99999999999997\n",
            "y2 2 97.00000000000001\n",
            "y2 5 78.0\n",
            "y2 6 242.0\n",
            "y3 2 85.0\n",
            "y3 3 125.0\n",
            "y3 4 331.0\n",
            "y3 7 78.0\n"
          ]
        }
      ],
      "source": [
        "for i in 1:n_items\n",
        "  for j in 1:n_periods\n",
        "    if value(y[i,j])> 0.01\n",
        "      println(\"y\",i,\" \",j,\" \",value(y[i,j]))\n",
        "    end\n",
        "  end\n",
        "end"
      ]
    },
    {
      "cell_type": "markdown",
      "metadata": {
        "id": "9wTNSMNAwxFG"
      },
      "source": [
        "---\n",
        "\n",
        "[Fernando Schettini](https://linktr.ee/fernandoschett) <br/>\n",
        "Inter at the Supercomputing Center for Industrial Innovation SENAI-CIMATEC [CS2I](https://www.senaicimatec.com.br/).<br/>\n",
        "[João Bernardino]() <br/>\n",
        "Computer Science Student at UFBA.<br/>"
      ]
    }
  ],
  "metadata": {
    "colab": {
      "provenance": []
    },
    "kernelspec": {
      "display_name": "julia 1.6.7",
      "name": "julia"
    }
  },
  "nbformat": 4,
  "nbformat_minor": 0
}
